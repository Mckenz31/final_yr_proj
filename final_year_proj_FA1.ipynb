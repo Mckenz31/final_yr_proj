{
  "nbformat": 4,
  "nbformat_minor": 0,
  "metadata": {
    "colab": {
      "name": "final_year_proj_FA1.ipynb",
      "provenance": [],
      "collapsed_sections": [],
      "toc_visible": true,
      "mount_file_id": "https://github.com/Mckenz31/final_yr_proj/blob/main/final_year_proj_FA1.ipynb",
      "authorship_tag": "ABX9TyMwHIDVyiqrdHZTJyJMQlZ8",
      "include_colab_link": true
    },
    "kernelspec": {
      "name": "python3",
      "display_name": "Python 3"
    },
    "language_info": {
      "name": "python"
    },
    "accelerator": "GPU",
    "gpuClass": "standard"
  },
  "cells": [
    {
      "cell_type": "markdown",
      "metadata": {
        "id": "view-in-github",
        "colab_type": "text"
      },
      "source": [
        "<a href=\"https://colab.research.google.com/github/Mckenz31/final_yr_proj/blob/main/final_year_proj_FA1.ipynb\" target=\"_parent\"><img src=\"https://colab.research.google.com/assets/colab-badge.svg\" alt=\"Open In Colab\"/></a>"
      ]
    },
    {
      "cell_type": "code",
      "execution_count": 121,
      "metadata": {
        "colab": {
          "base_uri": "https://localhost:8080/"
        },
        "id": "S-Q-3Jbqs9PK",
        "outputId": "c9445078-0126-42c2-c9ad-9822a1d00c22"
      },
      "outputs": [
        {
          "output_type": "stream",
          "name": "stdout",
          "text": [
            "Wed Jun 15 08:55:57 2022       \n",
            "+-----------------------------------------------------------------------------+\n",
            "| NVIDIA-SMI 460.32.03    Driver Version: 460.32.03    CUDA Version: 11.2     |\n",
            "|-------------------------------+----------------------+----------------------+\n",
            "| GPU  Name        Persistence-M| Bus-Id        Disp.A | Volatile Uncorr. ECC |\n",
            "| Fan  Temp  Perf  Pwr:Usage/Cap|         Memory-Usage | GPU-Util  Compute M. |\n",
            "|                               |                      |               MIG M. |\n",
            "|===============================+======================+======================|\n",
            "|   0  Tesla T4            Off  | 00000000:00:04.0 Off |                    0 |\n",
            "| N/A   69C    P0    32W /  70W |   8938MiB / 15109MiB |      0%      Default |\n",
            "|                               |                      |                  N/A |\n",
            "+-------------------------------+----------------------+----------------------+\n",
            "                                                                               \n",
            "+-----------------------------------------------------------------------------+\n",
            "| Processes:                                                                  |\n",
            "|  GPU   GI   CI        PID   Type   Process name                  GPU Memory |\n",
            "|        ID   ID                                                   Usage      |\n",
            "|=============================================================================|\n",
            "+-----------------------------------------------------------------------------+\n"
          ]
        }
      ],
      "source": [
        "!nvidia-smi"
      ]
    },
    {
      "cell_type": "code",
      "source": [
        "import tensorflow as tf\n",
        "print(tf.__version__)"
      ],
      "metadata": {
        "colab": {
          "base_uri": "https://localhost:8080/"
        },
        "id": "c8a530tdtRem",
        "outputId": "aec5320e-07bc-4ea1-abf0-be02d29d28f0"
      },
      "execution_count": 122,
      "outputs": [
        {
          "output_type": "stream",
          "name": "stdout",
          "text": [
            "2.8.2\n"
          ]
        }
      ]
    },
    {
      "cell_type": "code",
      "source": [
        "import matplotlib.pyplot as plt\n",
        "import datetime\n",
        "\n",
        "INPUT_SHAPE = (224, 224, 3)\n",
        "IMAGE_SIZE = (224, 224)"
      ],
      "metadata": {
        "id": "VWUQ8fLLRndC"
      },
      "execution_count": 123,
      "outputs": []
    },
    {
      "cell_type": "code",
      "source": [
        "# Using Tensorflow Datasets to Download Data\n",
        "import tensorflow_datasets as tfds"
      ],
      "metadata": {
        "id": "9fPmWGU5tiBr"
      },
      "execution_count": 124,
      "outputs": []
    },
    {
      "cell_type": "code",
      "source": [
        "# List available datasets\n",
        "\n",
        "datasets = tfds.list_builders()\n",
        "datasets"
      ],
      "metadata": {
        "colab": {
          "base_uri": "https://localhost:8080/"
        },
        "id": "tpW7p11At1cD",
        "outputId": "77c25074-7702-4bf3-db0b-1a451036fb7e"
      },
      "execution_count": 5,
      "outputs": [
        {
          "output_type": "execute_result",
          "data": {
            "text/plain": [
              "['abstract_reasoning',\n",
              " 'accentdb',\n",
              " 'aeslc',\n",
              " 'aflw2k3d',\n",
              " 'ag_news_subset',\n",
              " 'ai2_arc',\n",
              " 'ai2_arc_with_ir',\n",
              " 'amazon_us_reviews',\n",
              " 'anli',\n",
              " 'arc',\n",
              " 'bair_robot_pushing_small',\n",
              " 'bccd',\n",
              " 'beans',\n",
              " 'big_patent',\n",
              " 'bigearthnet',\n",
              " 'billsum',\n",
              " 'binarized_mnist',\n",
              " 'binary_alpha_digits',\n",
              " 'blimp',\n",
              " 'bool_q',\n",
              " 'c4',\n",
              " 'caltech101',\n",
              " 'caltech_birds2010',\n",
              " 'caltech_birds2011',\n",
              " 'cars196',\n",
              " 'cassava',\n",
              " 'cats_vs_dogs',\n",
              " 'celeb_a',\n",
              " 'celeb_a_hq',\n",
              " 'cfq',\n",
              " 'chexpert',\n",
              " 'cifar10',\n",
              " 'cifar100',\n",
              " 'cifar10_1',\n",
              " 'cifar10_corrupted',\n",
              " 'citrus_leaves',\n",
              " 'cityscapes',\n",
              " 'civil_comments',\n",
              " 'clevr',\n",
              " 'clic',\n",
              " 'clinc_oos',\n",
              " 'cmaterdb',\n",
              " 'cnn_dailymail',\n",
              " 'coco',\n",
              " 'coco_captions',\n",
              " 'coil100',\n",
              " 'colorectal_histology',\n",
              " 'colorectal_histology_large',\n",
              " 'common_voice',\n",
              " 'coqa',\n",
              " 'cos_e',\n",
              " 'cosmos_qa',\n",
              " 'covid19sum',\n",
              " 'crema_d',\n",
              " 'curated_breast_imaging_ddsm',\n",
              " 'cycle_gan',\n",
              " 'deep_weeds',\n",
              " 'definite_pronoun_resolution',\n",
              " 'dementiabank',\n",
              " 'diabetic_retinopathy_detection',\n",
              " 'div2k',\n",
              " 'dmlab',\n",
              " 'downsampled_imagenet',\n",
              " 'dsprites',\n",
              " 'dtd',\n",
              " 'duke_ultrasound',\n",
              " 'emnist',\n",
              " 'eraser_multi_rc',\n",
              " 'esnli',\n",
              " 'eurosat',\n",
              " 'fashion_mnist',\n",
              " 'flic',\n",
              " 'flores',\n",
              " 'food101',\n",
              " 'forest_fires',\n",
              " 'fuss',\n",
              " 'gap',\n",
              " 'geirhos_conflict_stimuli',\n",
              " 'genomics_ood',\n",
              " 'german_credit_numeric',\n",
              " 'gigaword',\n",
              " 'glue',\n",
              " 'goemotions',\n",
              " 'gpt3',\n",
              " 'groove',\n",
              " 'gtzan',\n",
              " 'gtzan_music_speech',\n",
              " 'hellaswag',\n",
              " 'higgs',\n",
              " 'horses_or_humans',\n",
              " 'i_naturalist2017',\n",
              " 'imagenet2012',\n",
              " 'imagenet2012_corrupted',\n",
              " 'imagenet2012_real',\n",
              " 'imagenet2012_subset',\n",
              " 'imagenet_a',\n",
              " 'imagenet_r',\n",
              " 'imagenet_resized',\n",
              " 'imagenet_v2',\n",
              " 'imagenette',\n",
              " 'imagewang',\n",
              " 'imdb_reviews',\n",
              " 'irc_disentanglement',\n",
              " 'iris',\n",
              " 'kitti',\n",
              " 'kmnist',\n",
              " 'lfw',\n",
              " 'librispeech',\n",
              " 'librispeech_lm',\n",
              " 'libritts',\n",
              " 'ljspeech',\n",
              " 'lm1b',\n",
              " 'lost_and_found',\n",
              " 'lsun',\n",
              " 'malaria',\n",
              " 'math_dataset',\n",
              " 'mctaco',\n",
              " 'mnist',\n",
              " 'mnist_corrupted',\n",
              " 'movie_lens',\n",
              " 'movie_rationales',\n",
              " 'movielens',\n",
              " 'moving_mnist',\n",
              " 'multi_news',\n",
              " 'multi_nli',\n",
              " 'multi_nli_mismatch',\n",
              " 'natural_questions',\n",
              " 'natural_questions_open',\n",
              " 'newsroom',\n",
              " 'nsynth',\n",
              " 'nyu_depth_v2',\n",
              " 'omniglot',\n",
              " 'open_images_challenge2019_detection',\n",
              " 'open_images_v4',\n",
              " 'openbookqa',\n",
              " 'opinion_abstracts',\n",
              " 'opinosis',\n",
              " 'opus',\n",
              " 'oxford_flowers102',\n",
              " 'oxford_iiit_pet',\n",
              " 'para_crawl',\n",
              " 'patch_camelyon',\n",
              " 'paws_wiki',\n",
              " 'paws_x_wiki',\n",
              " 'pet_finder',\n",
              " 'pg19',\n",
              " 'places365_small',\n",
              " 'plant_leaves',\n",
              " 'plant_village',\n",
              " 'plantae_k',\n",
              " 'qa4mre',\n",
              " 'qasc',\n",
              " 'quickdraw_bitmap',\n",
              " 'radon',\n",
              " 'reddit',\n",
              " 'reddit_disentanglement',\n",
              " 'reddit_tifu',\n",
              " 'resisc45',\n",
              " 'robonet',\n",
              " 'rock_paper_scissors',\n",
              " 'rock_you',\n",
              " 'salient_span_wikipedia',\n",
              " 'samsum',\n",
              " 'savee',\n",
              " 'scan',\n",
              " 'scene_parse150',\n",
              " 'scicite',\n",
              " 'scientific_papers',\n",
              " 'sentiment140',\n",
              " 'shapes3d',\n",
              " 'smallnorb',\n",
              " 'snli',\n",
              " 'so2sat',\n",
              " 'speech_commands',\n",
              " 'spoken_digit',\n",
              " 'squad',\n",
              " 'stanford_dogs',\n",
              " 'stanford_online_products',\n",
              " 'starcraft_video',\n",
              " 'stl10',\n",
              " 'sun397',\n",
              " 'super_glue',\n",
              " 'svhn_cropped',\n",
              " 'ted_hrlr_translate',\n",
              " 'ted_multi_translate',\n",
              " 'tedlium',\n",
              " 'tf_flowers',\n",
              " 'the300w_lp',\n",
              " 'tiny_shakespeare',\n",
              " 'titanic',\n",
              " 'trec',\n",
              " 'trivia_qa',\n",
              " 'tydi_qa',\n",
              " 'uc_merced',\n",
              " 'ucf101',\n",
              " 'vctk',\n",
              " 'vgg_face2',\n",
              " 'visual_domain_decathlon',\n",
              " 'voc',\n",
              " 'voxceleb',\n",
              " 'voxforge',\n",
              " 'waymo_open_dataset',\n",
              " 'web_questions',\n",
              " 'wider_face',\n",
              " 'wiki40b',\n",
              " 'wikihow',\n",
              " 'wikipedia',\n",
              " 'wikipedia_toxicity_subtypes',\n",
              " 'wine_quality',\n",
              " 'winogrande',\n",
              " 'wmt14_translate',\n",
              " 'wmt15_translate',\n",
              " 'wmt16_translate',\n",
              " 'wmt17_translate',\n",
              " 'wmt18_translate',\n",
              " 'wmt19_translate',\n",
              " 'wmt_t2t_translate',\n",
              " 'wmt_translate',\n",
              " 'wordnet',\n",
              " 'xnli',\n",
              " 'xquad',\n",
              " 'xsum',\n",
              " 'yelp_polarity_reviews',\n",
              " 'yes_no']"
            ]
          },
          "metadata": {},
          "execution_count": 5
        }
      ]
    },
    {
      "cell_type": "code",
      "source": [
        "print(\"stanford_online_products\" in datasets)"
      ],
      "metadata": {
        "colab": {
          "base_uri": "https://localhost:8080/"
        },
        "id": "lGYHVcDWvhOI",
        "outputId": "4f6b9900-fc43-424a-e60b-e448753d2750"
      },
      "execution_count": null,
      "outputs": [
        {
          "output_type": "stream",
          "name": "stdout",
          "text": [
            "True\n"
          ]
        }
      ]
    },
    {
      "cell_type": "code",
      "source": [
        "(train_data, test_data), ds_info = tfds.load(\n",
        "    name = \"stanford_online_products\",\n",
        "    split = [\"test\", \"train\"],\n",
        "    shuffle_files = True,\n",
        "    as_supervised = False,\n",
        "    with_info = True\n",
        ")"
      ],
      "metadata": {
        "id": "Y8A1pMeFwuFl"
      },
      "execution_count": null,
      "outputs": []
    },
    {
      "cell_type": "code",
      "source": [
        "ds_info.features"
      ],
      "metadata": {
        "colab": {
          "base_uri": "https://localhost:8080/"
        },
        "id": "i_yC2QvFMIge",
        "outputId": "9884ec82-c9d2-4050-f994-cf410304a1f7"
      },
      "execution_count": null,
      "outputs": [
        {
          "output_type": "execute_result",
          "data": {
            "text/plain": [
              "FeaturesDict({\n",
              "    'class_id': ClassLabel(shape=(), dtype=tf.int64, num_classes=22634),\n",
              "    'image': Image(shape=(None, None, 3), dtype=tf.uint8),\n",
              "    'super_class_id': ClassLabel(shape=(), dtype=tf.int64, num_classes=12),\n",
              "    'super_class_id/num': ClassLabel(shape=(), dtype=tf.int64, num_classes=12),\n",
              "})"
            ]
          },
          "metadata": {},
          "execution_count": 67
        }
      ]
    },
    {
      "cell_type": "code",
      "source": [
        "class_names = ds_info.features[\"super_class_id\"].names\n",
        "class_names"
      ],
      "metadata": {
        "colab": {
          "base_uri": "https://localhost:8080/"
        },
        "id": "11eSLW8wMSc1",
        "outputId": "414af261-532c-47a5-fe12-cf385358d9d1"
      },
      "execution_count": null,
      "outputs": [
        {
          "output_type": "execute_result",
          "data": {
            "text/plain": [
              "['bicycle',\n",
              " 'cabinet',\n",
              " 'chair',\n",
              " 'coffee_maker',\n",
              " 'fan',\n",
              " 'kettle',\n",
              " 'lamp',\n",
              " 'mug',\n",
              " 'sofa',\n",
              " 'stapler',\n",
              " 'table',\n",
              " 'toaster']"
            ]
          },
          "metadata": {},
          "execution_count": 68
        }
      ]
    },
    {
      "cell_type": "code",
      "source": [
        "train_one_sample = train_data.take(1)\n",
        "train_one_sample"
      ],
      "metadata": {
        "colab": {
          "base_uri": "https://localhost:8080/"
        },
        "id": "6ypgAY95NOmB",
        "outputId": "7bb10ebe-2a04-434a-d9b4-813c56017053"
      },
      "execution_count": null,
      "outputs": [
        {
          "output_type": "execute_result",
          "data": {
            "text/plain": [
              "<TakeDataset element_spec={'class_id': TensorSpec(shape=(), dtype=tf.int64, name=None), 'image': TensorSpec(shape=(None, None, 3), dtype=tf.uint8, name=None), 'super_class_id': TensorSpec(shape=(), dtype=tf.int64, name=None), 'super_class_id/num': TensorSpec(shape=(), dtype=tf.int64, name=None)}>"
            ]
          },
          "metadata": {},
          "execution_count": 69
        }
      ]
    },
    {
      "cell_type": "code",
      "source": [
        "for element_spec in train_one_sample:\n",
        "  print(f\"Image shape: {element_spec['image'].shape}\")\n",
        "  print(f\"Image shape: {element_spec['image'].dtype}\")\n",
        "  print(f\"Target class: {element_spec['super_class_id']}\" )\n",
        "  print(f\"Target class name:  {class_names[element_spec['super_class_id']]}\")"
      ],
      "metadata": {
        "colab": {
          "base_uri": "https://localhost:8080/"
        },
        "id": "6za8tFdoNhhH",
        "outputId": "c4a10c63-83e3-403d-bd86-b3f131f920c7"
      },
      "execution_count": null,
      "outputs": [
        {
          "output_type": "stream",
          "name": "stdout",
          "text": [
            "Image shape: (400, 400, 3)\n",
            "Image shape: <dtype: 'uint8'>\n",
            "Target class: 10\n",
            "Target class name:  table\n"
          ]
        }
      ]
    },
    {
      "cell_type": "code",
      "source": [
        "element_spec['image']"
      ],
      "metadata": {
        "colab": {
          "base_uri": "https://localhost:8080/"
        },
        "id": "bQ9kDKMlQB_Q",
        "outputId": "cc9603ee-529d-4839-a34e-f26717949501"
      },
      "execution_count": null,
      "outputs": [
        {
          "output_type": "execute_result",
          "data": {
            "text/plain": [
              "<tf.Tensor: shape=(400, 400, 3), dtype=uint8, numpy=\n",
              "array([[[254, 254, 254],\n",
              "        [254, 254, 254],\n",
              "        [254, 254, 254],\n",
              "        ...,\n",
              "        [254, 254, 254],\n",
              "        [254, 254, 254],\n",
              "        [254, 254, 254]],\n",
              "\n",
              "       [[254, 254, 254],\n",
              "        [254, 254, 254],\n",
              "        [254, 254, 254],\n",
              "        ...,\n",
              "        [254, 254, 254],\n",
              "        [254, 254, 254],\n",
              "        [254, 254, 254]],\n",
              "\n",
              "       [[254, 254, 254],\n",
              "        [254, 254, 254],\n",
              "        [254, 254, 254],\n",
              "        ...,\n",
              "        [254, 254, 254],\n",
              "        [254, 254, 254],\n",
              "        [254, 254, 254]],\n",
              "\n",
              "       ...,\n",
              "\n",
              "       [[254, 254, 254],\n",
              "        [254, 254, 254],\n",
              "        [254, 254, 254],\n",
              "        ...,\n",
              "        [254, 254, 254],\n",
              "        [254, 254, 254],\n",
              "        [254, 254, 254]],\n",
              "\n",
              "       [[254, 254, 254],\n",
              "        [254, 254, 254],\n",
              "        [254, 254, 254],\n",
              "        ...,\n",
              "        [254, 254, 254],\n",
              "        [254, 254, 254],\n",
              "        [254, 254, 254]],\n",
              "\n",
              "       [[254, 254, 254],\n",
              "        [254, 254, 254],\n",
              "        [254, 254, 254],\n",
              "        ...,\n",
              "        [254, 254, 254],\n",
              "        [254, 254, 254],\n",
              "        [254, 254, 254]]], dtype=uint8)>"
            ]
          },
          "metadata": {},
          "execution_count": 71
        }
      ]
    },
    {
      "cell_type": "code",
      "source": [
        "image = element_spec[\"image\"]"
      ],
      "metadata": {
        "id": "qNZ_0CZeRB7H"
      },
      "execution_count": null,
      "outputs": []
    },
    {
      "cell_type": "code",
      "source": [
        "label = class_names[element_spec['super_class_id']]\n",
        "label"
      ],
      "metadata": {
        "colab": {
          "base_uri": "https://localhost:8080/",
          "height": 36
        },
        "id": "xJzqcrO8cI0d",
        "outputId": "13530462-ff2c-406c-b4fc-c23b286965c4"
      },
      "execution_count": null,
      "outputs": [
        {
          "output_type": "execute_result",
          "data": {
            "text/plain": [
              "'table'"
            ],
            "application/vnd.google.colaboratory.intrinsic+json": {
              "type": "string"
            }
          },
          "metadata": {},
          "execution_count": 73
        }
      ]
    },
    {
      "cell_type": "code",
      "source": [
        "#Min and mac values\n",
        "tf.reduce_min(image), tf.reduce_max(image)"
      ],
      "metadata": {
        "colab": {
          "base_uri": "https://localhost:8080/"
        },
        "id": "TWow5QIrRQCH",
        "outputId": "40877372-2193-45ac-e7ab-97877b265582"
      },
      "execution_count": null,
      "outputs": [
        {
          "output_type": "execute_result",
          "data": {
            "text/plain": [
              "(<tf.Tensor: shape=(), dtype=uint8, numpy=0>,\n",
              " <tf.Tensor: shape=(), dtype=uint8, numpy=255>)"
            ]
          },
          "metadata": {},
          "execution_count": 74
        }
      ]
    },
    {
      "cell_type": "code",
      "source": [
        "# Plot the image\n",
        "\n",
        "plt.imshow(image)\n",
        "plt.title(class_names[element_spec['super_class_id']])\n",
        "plt.axis(False)"
      ],
      "metadata": {
        "colab": {
          "base_uri": "https://localhost:8080/",
          "height": 281
        },
        "id": "FsPfhLGgRivL",
        "outputId": "9037e552-4540-4310-ded6-bb6467db3d6d"
      },
      "execution_count": null,
      "outputs": [
        {
          "output_type": "execute_result",
          "data": {
            "text/plain": [
              "(-0.5, 399.5, 399.5, -0.5)"
            ]
          },
          "metadata": {},
          "execution_count": 75
        },
        {
          "output_type": "display_data",
          "data": {
            "text/plain": [
              "<Figure size 432x288 with 1 Axes>"
            ],
            "image/png": "[encoded data removed]"
          },
          "metadata": {
            "needs_background": "light"
          }
        }
      ]
    },
    {
      "cell_type": "markdown",
      "source": [
        "# Processing our data"
      ],
      "metadata": {
        "id": "Vvdhyk1LTuga"
      }
    },
    {
      "cell_type": "markdown",
      "source": [
        "Our dataset [Todo]\n",
        "\n",
        "- It is in unit8 -> needs to be converted to float32\n",
        "- Different sized images -> need to make them uniform\n",
        "- Not scaled (0-255) -> Scaled (0-1)"
      ],
      "metadata": {
        "id": "qlWKwFuvTW-X"
      }
    },
    {
      "cell_type": "code",
      "source": [
        "print(f\"Image before preprocessing:\\n {element_spec['image'][:3]}...,\\nShape: {element_spec['image'].shape},\\nDatatype: {element_spec['image'].dtype}\\n\")"
      ],
      "metadata": {
        "colab": {
          "base_uri": "https://localhost:8080/"
        },
        "id": "T7fLbNneg006",
        "outputId": "bc3cb3e2-2b48-4123-8efa-5964fbca1209"
      },
      "execution_count": null,
      "outputs": [
        {
          "output_type": "stream",
          "name": "stdout",
          "text": [
            "Image before preprocessing:\n",
            " [[[254 254 254]\n",
            "  [254 254 254]\n",
            "  [254 254 254]\n",
            "  ...\n",
            "  [254 254 254]\n",
            "  [254 254 254]\n",
            "  [254 254 254]]\n",
            "\n",
            " [[254 254 254]\n",
            "  [254 254 254]\n",
            "  [254 254 254]\n",
            "  ...\n",
            "  [254 254 254]\n",
            "  [254 254 254]\n",
            "  [254 254 254]]\n",
            "\n",
            " [[254 254 254]\n",
            "  [254 254 254]\n",
            "  [254 254 254]\n",
            "  ...\n",
            "  [254 254 254]\n",
            "  [254 254 254]\n",
            "  [254 254 254]]]...,\n",
            "Shape: (400, 400, 3),\n",
            "Datatype: <dtype: 'uint8'>\n",
            "\n"
          ]
        }
      ]
    },
    {
      "cell_type": "code",
      "source": [
        "def preprocess_img(element_spec):\n",
        "\n",
        "  element_spec['image'] = tf.image.resize(element_spec['image'], [224, 224])\n",
        "  tf.cast(element_spec['image'], tf.float32), \n",
        "  return element_spec"
      ],
      "metadata": {
        "id": "YiXEWXBwT0d7"
      },
      "execution_count": null,
      "outputs": []
    },
    {
      "cell_type": "code",
      "source": [
        "preprocessed_img = preprocess_img(element_spec)\n",
        "print(f\"Image after preprocessing:\\n {preprocessed_img['image'][:3]}...,\\nShape: {preprocessed_img['image'].shape},\\nDatatype: {preprocessed_img['image'].dtype}\")"
      ],
      "metadata": {
        "colab": {
          "base_uri": "https://localhost:8080/"
        },
        "id": "Eh3eywybc6Qd",
        "outputId": "b1af66fd-df03-41d1-fa44-f23a8ab3f60e"
      },
      "execution_count": null,
      "outputs": [
        {
          "output_type": "stream",
          "name": "stdout",
          "text": [
            "Image after preprocessing:\n",
            " [[[254. 254. 254.]\n",
            "  [254. 254. 254.]\n",
            "  [254. 254. 254.]\n",
            "  ...\n",
            "  [254. 254. 254.]\n",
            "  [254. 254. 254.]\n",
            "  [254. 254. 254.]]\n",
            "\n",
            " [[254. 254. 254.]\n",
            "  [254. 254. 254.]\n",
            "  [254. 254. 254.]\n",
            "  ...\n",
            "  [254. 254. 254.]\n",
            "  [254. 254. 254.]\n",
            "  [254. 254. 254.]]\n",
            "\n",
            " [[254. 254. 254.]\n",
            "  [254. 254. 254.]\n",
            "  [254. 254. 254.]\n",
            "  ...\n",
            "  [254. 254. 254.]\n",
            "  [254. 254. 254.]\n",
            "  [254. 254. 254.]]]...,\n",
            "Shape: (224, 224, 3),\n",
            "Datatype: <dtype: 'float32'>\n"
          ]
        }
      ]
    },
    {
      "cell_type": "code",
      "source": [
        "plt.imshow(preprocessed_img['image']/255)\n",
        "plt.title(label)\n",
        "plt.axis(False)"
      ],
      "metadata": {
        "colab": {
          "base_uri": "https://localhost:8080/",
          "height": 281
        },
        "id": "EhLW1QUVhNQx",
        "outputId": "fb89dc2e-9f2e-42f7-e6a4-86b1300dbadb"
      },
      "execution_count": null,
      "outputs": [
        {
          "output_type": "execute_result",
          "data": {
            "text/plain": [
              "(-0.5, 223.5, 223.5, -0.5)"
            ]
          },
          "metadata": {},
          "execution_count": 79
        },
        {
          "output_type": "display_data",
          "data": {
            "text/plain": [
              "<Figure size 432x288 with 1 Axes>"
            ],
            "image/png": "[encoded data removed]"
          },
          "metadata": {
            "needs_background": "light"
          }
        }
      ]
    },
    {
      "cell_type": "markdown",
      "source": [
        "Original dataset (e.g. train_data) -> map() -> shuffle() -> batch() -> prefetch() -> PrefetchDataset"
      ],
      "metadata": {
        "id": "I03RtrsVbrRz"
      }
    },
    {
      "cell_type": "code",
      "source": [
        "# Map preprocessing function\n",
        "train_data = train_data.map(map_func=preprocess_img, num_parallel_calls = tf.data.AUTOTUNE)\n",
        "\n",
        "train_data = train_data.shuffle(buffer_size=1000).batch(batch_size = 32).prefetch(buffer_size = tf.data.AUTOTUNE)\n",
        "\n",
        "'''\n",
        "num_parallel_calls = tf.data.AUTOTUNE -> this is done for prefetching\n",
        "Prefetching is done such that - while the GPU works on the data, the CPU does\n",
        "not remain idle but rather prepares the next set of data.\n",
        "This way, the entire process of preparing and using data happens concurrently,\n",
        "thus saving lots of time\n",
        "'''\n",
        "\n",
        "test_data = test_data.map(map_func = preprocess_img, num_parallel_calls = tf.data.AUTOTUNE)\n",
        "\n",
        "test_data = test_data.batch(batch_size = 32).prefetch(buffer_size = tf.data.AUTOTUNE)"
      ],
      "metadata": {
        "id": "e6cK7TYih8au"
      },
      "execution_count": null,
      "outputs": []
    },
    {
      "cell_type": "code",
      "source": [
        "train_data, test_data"
      ],
      "metadata": {
        "colab": {
          "base_uri": "https://localhost:8080/"
        },
        "id": "vFGAWU4DjYI8",
        "outputId": "f48a56f5-5dbd-4679-85f0-241ec26ee497"
      },
      "execution_count": null,
      "outputs": [
        {
          "output_type": "execute_result",
          "data": {
            "text/plain": [
              "(<PrefetchDataset element_spec={'class_id': TensorSpec(shape=(None,), dtype=tf.int64, name=None), 'image': TensorSpec(shape=(None, 224, 224, 3), dtype=tf.float32, name=None), 'super_class_id': TensorSpec(shape=(None,), dtype=tf.int64, name=None), 'super_class_id/num': TensorSpec(shape=(None,), dtype=tf.int64, name=None)}>,\n",
              " <PrefetchDataset element_spec={'class_id': TensorSpec(shape=(None,), dtype=tf.int64, name=None), 'image': TensorSpec(shape=(None, 224, 224, 3), dtype=tf.float32, name=None), 'super_class_id': TensorSpec(shape=(None,), dtype=tf.int64, name=None), 'super_class_id/num': TensorSpec(shape=(None,), dtype=tf.int64, name=None)}>)"
            ]
          },
          "metadata": {},
          "execution_count": 81
        }
      ]
    },
    {
      "cell_type": "code",
      "source": [
        "# Mixed precision\n",
        "\n",
        "from tensorflow.keras import mixed_precision\n",
        "mixed_precision.set_global_policy(policy=\"mixed_float16\")"
      ],
      "metadata": {
        "id": "2GN4Pi3Nl5o2"
      },
      "execution_count": null,
      "outputs": []
    },
    {
      "cell_type": "code",
      "source": [
        "mixed_precision.global_policy()"
      ],
      "metadata": {
        "colab": {
          "base_uri": "https://localhost:8080/"
        },
        "id": "doq6b3B4mgef",
        "outputId": "52900637-6a47-4eb5-b2a6-a627186e46c7"
      },
      "execution_count": null,
      "outputs": [
        {
          "output_type": "execute_result",
          "data": {
            "text/plain": [
              "<Policy \"mixed_float16\">"
            ]
          },
          "metadata": {},
          "execution_count": 83
        }
      ]
    },
    {
      "cell_type": "markdown",
      "source": [
        "# Create modelling callbacks - confusion matrix"
      ],
      "metadata": {
        "id": "PZ6qwjfyjzKX"
      }
    },
    {
      "cell_type": "code",
      "source": [
        "# Tensorboard callback\n",
        "def tensorboard_callback(dir_name, exp_name):\n",
        "\n",
        "  log_dir = dir_name + '/' + exp_name + '/' + datetime.datetime.now().strftime(\"%Y%m%d-%H%M%S\")\n",
        "  tensorboard_callbac = tf.keras.callbacks.TensorBoard(\n",
        "      log_dir = log_dir\n",
        "  )\n",
        "\n",
        "  return tensorboard_callbac\n",
        "\n",
        "# ModelCheckpoint callback\n",
        "\n",
        "checkpoint_path = \"model_checkpoints/cp.ckpt\" # saving weights requires \".ckpt\" extension\n",
        "model_checkpoint = tf.keras.callbacks.ModelCheckpoint(checkpoint_path,\n",
        "                                                      monitor=\"val_acc\", # save the model weights with best validation accuracy\n",
        "                                                      save_best_only=True, # only save the best weights\n",
        "                                                      save_weights_only=True, # only save model weights (not whole model)\n",
        "                                                      verbose=0) # don't print out whether or not model is being saved "
      ],
      "metadata": {
        "id": "xCGp5-pBj5IZ"
      },
      "execution_count": 125,
      "outputs": []
    },
    {
      "cell_type": "code",
      "source": [
        "from sklearn.metrics import confusion_matrix\n",
        "import numpy as np\n",
        "import matplotlib.pyplot as plt\n",
        "import itertools\n",
        "\n",
        "def confusion_matrix_disp(y_true, y_pred, classes=None, figsize=(12, 12), text_size=15, norm=False, save_fig=False):\n",
        "\n",
        "  cm = confusion_matrix(y_true, y_pred)\n",
        "  cm_norm = cm.astype(\"float\") / cm.sum(axis=1)[:, np.newaxis]\n",
        "  n_classes = cm.shape[0]\n",
        "\n",
        "  fig, ax = plt.subplots(figsize=figsize)\n",
        "  cax = ax.matshow(cm, cmap=plt.cm.Blues)\n",
        "  fig.colorbar(cax)\n",
        "\n",
        "  if classes:\n",
        "    labels = classes\n",
        "  else:\n",
        "    labels = np.arrange(cm.shape[0])\n",
        "\n",
        "  ax.set(\n",
        "      title=\"Confusion Matrix\",\n",
        "      xlabel = \"Prediction\",\n",
        "      ylabel = \"Actual\",\n",
        "      xticks = np.arange(n_classes),\n",
        "      yticks = np.arrange(n_classes),\n",
        "      xticklabel = labels,\n",
        "      yticklabel =labels\n",
        "  )\n",
        "\n",
        "  ax.xaxis.set_label_position(\"bottom\")\n",
        "  ax.xaxis.tick_bottom()\n",
        "\n",
        "  threshold = (cm.max() + cm.min()) / 2.\n",
        "\n",
        "  for i, j in itertools.product(range(cm.shape[0]), range(cm.shape[1])):\n",
        "    if norm:\n",
        "      plt.text(j, i, f\"{cm[i, j]} ({cm_norm[i, j]*100:.1f}%)\",\n",
        "              horizontalalignment=\"center\",\n",
        "              color=\"white\" if cm[i, j] > threshold else \"black\",\n",
        "              size=text_size)\n",
        "    else:\n",
        "      plt.text(j, i, f\"{cm[i, j]}\",\n",
        "              horizontalalignment=\"center\",\n",
        "              color=\"white\" if cm[i, j] > threshold else \"black\",\n",
        "              size=text_size)\n",
        "      \n",
        "  if save_fig:\n",
        "    fig.savefig(\"confusion_matrix.png\")\n"
      ],
      "metadata": {
        "id": "t3ohOKOkEQpA"
      },
      "execution_count": 126,
      "outputs": []
    },
    {
      "cell_type": "code",
      "source": [
        "def plot_loss_curves(history):\n",
        "\n",
        "  loss = history.history['loss']\n",
        "  val_loss = history.history['val_loss']\n",
        "\n",
        "  accuracy = history.history['accuracy']\n",
        "  val_accuracy = history.history['val_accuracy']\n",
        "\n",
        "  epochs = range(len(history.history['loss']))\n",
        "\n",
        "  # Plot loss\n",
        "  plt.plot(epochs, loss, label='training_loss')\n",
        "  plt.plot(epochs, val_loss, label='val_loss')\n",
        "  plt.title('Loss')\n",
        "  plt.xlabel('Epochs')\n",
        "  plt.legend()\n",
        "\n",
        "  # Plot accuracy\n",
        "  plt.figure()\n",
        "  plt.plot(epochs, accuracy, label='training_accuracy')\n",
        "  plt.plot(epochs, val_accuracy, label='val_accuracy')\n",
        "  plt.title('Accuracy')\n",
        "  plt.xlabel('Epochs')\n",
        "  plt.legend();"
      ],
      "metadata": {
        "id": "vtYFtjAARQiO"
      },
      "execution_count": 127,
      "outputs": []
    },
    {
      "cell_type": "code",
      "source": [
        "def load_and_prep(filename, input_shape=224, scale=True):\n",
        "  img = tf.io.read_file(filename),\n",
        "  img = tf.image.decode_jpeg(img),\n",
        "  img = tf.image.resize(img, [input_shape, input_shape])\n",
        "\n",
        "  if scale:\n",
        "    return img/225.\n",
        "  else:\n",
        "    return img"
      ],
      "metadata": {
        "id": "LJT2NeSYGlG3"
      },
      "execution_count": 128,
      "outputs": []
    },
    {
      "cell_type": "code",
      "source": [
        "def plot_curves(model, filename, class_names):\n",
        "  img = load_and_prep(filename)\n",
        "\n",
        "  pred = model.predict(tf.expand_dims(img, axis=0))\n",
        "\n",
        "  if(len(pred[0])) > 1:\n",
        "     pred_class = class_names[pred.argmax()]\n",
        "  else:\n",
        "    pred_class = class_names[int(tf.round(pred)[0][0])]\n",
        "\n",
        "\n",
        "  plt.imshow(img)\n",
        "  plt.title(f\"Prediction: {pred_class}\")\n",
        "  plt.axis(False);"
      ],
      "metadata": {
        "id": "8G96T2_uHJfU"
      },
      "execution_count": 129,
      "outputs": []
    },
    {
      "cell_type": "markdown",
      "source": [
        "# EFFICIENTNET B0"
      ],
      "metadata": {
        "id": "x5BxgHUhmsHn"
      }
    },
    {
      "cell_type": "markdown",
      "source": [
        "## Feature extraction"
      ],
      "metadata": {
        "id": "tQDjzfL0mynZ"
      }
    },
    {
      "cell_type": "code",
      "source": [
        "base_model = tf.keras.applications.EfficientNetB0(include_top = False)\n",
        "base_model.trainable = False\n",
        "\n",
        "# Functional layers\n",
        "inputs = tf.keras.layers.Input(shape=input_shape, name=\"input_layer\")\n",
        "\n",
        "x = base_model(inputs, training=False)\n",
        "x = tf.keras.layers.GlobalAveragePooling2D(name = \"pooling_layer\")(x)\n",
        "x = tf.keras.layers.Dense(len(class_names))(x)\n",
        "\n",
        "outputs = tf.keras.layers.Activation(\"softmax\", dtype = tf.float32, name=\"softmax_output_float32\")(x)\n",
        "\n",
        "model = tf.keras.Model(inputs, outputs)\n"
      ],
      "metadata": {
        "id": "h4ZFmtTtnFI0"
      },
      "execution_count": null,
      "outputs": []
    },
    {
      "cell_type": "code",
      "source": [
        "model.compile(\n",
        "    loss = \"sparse_categorical_crossentropy\",\n",
        "    optimizer = tf.keras.optimizers.Adam(),\n",
        "    metrics = [\"accuracy\"]\n",
        ")"
      ],
      "metadata": {
        "id": "Z1SfwkcQospV"
      },
      "execution_count": null,
      "outputs": []
    },
    {
      "cell_type": "code",
      "source": [
        "model.summary()"
      ],
      "metadata": {
        "colab": {
          "base_uri": "https://localhost:8080/"
        },
        "id": "Ky1D9pqHo8VG",
        "outputId": "e627ef42-9c00-44e5-a8e6-bfb1314f3d2b"
      },
      "execution_count": null,
      "outputs": [
        {
          "output_type": "stream",
          "name": "stdout",
          "text": [
            "Model: \"model_1\"\n",
            "_________________________________________________________________\n",
            " Layer (type)                Output Shape              Param #   \n",
            "=================================================================\n",
            " input_layer (InputLayer)    [(None, 224, 224, 3)]     0         \n",
            "                                                                 \n",
            " efficientnetb0 (Functional)  (None, None, None, 1280)  4049571  \n",
            "                                                                 \n",
            " pooling_layer (GlobalAverag  (None, 1280)             0         \n",
            " ePooling2D)                                                     \n",
            "                                                                 \n",
            " dense_1 (Dense)             (None, 12)                15372     \n",
            "                                                                 \n",
            " softmax_output_float32 (Act  (None, 12)               0         \n",
            " ivation)                                                        \n",
            "                                                                 \n",
            "=================================================================\n",
            "Total params: 4,064,943\n",
            "Trainable params: 15,372\n",
            "Non-trainable params: 4,049,571\n",
            "_________________________________________________________________\n"
          ]
        }
      ]
    },
    {
      "cell_type": "code",
      "source": [
        "for layer in model.layers:\n",
        "  print(layer.name, layer.trainable, layer.dtype, layer.dtype_policy)"
      ],
      "metadata": {
        "colab": {
          "base_uri": "https://localhost:8080/"
        },
        "id": "CqfAg-9PpI58",
        "outputId": "0c2d5a31-2f5c-4d94-973a-3a11bbde198a"
      },
      "execution_count": null,
      "outputs": [
        {
          "output_type": "stream",
          "name": "stdout",
          "text": [
            "input_layer True float32 <Policy \"float32\">\n",
            "efficientnetb0 False float32 <Policy \"mixed_float16\">\n",
            "pooling_layer True float32 <Policy \"mixed_float16\">\n",
            "dense_1 True float32 <Policy \"mixed_float16\">\n",
            "softmax_output_float32 True float32 <Policy \"float32\">\n"
          ]
        }
      ]
    },
    {
      "cell_type": "code",
      "source": [
        "len(train_data)"
      ],
      "metadata": {
        "colab": {
          "base_uri": "https://localhost:8080/"
        },
        "id": "G7BrXkkd9TZp",
        "outputId": "c6265fa2-5f93-4877-ced3-3508e0f765c0"
      },
      "execution_count": null,
      "outputs": [
        {
          "output_type": "execute_result",
          "data": {
            "text/plain": [
              "1891"
            ]
          },
          "metadata": {},
          "execution_count": 103
        }
      ]
    },
    {
      "cell_type": "code",
      "source": [
        "train_data"
      ],
      "metadata": {
        "colab": {
          "base_uri": "https://localhost:8080/"
        },
        "id": "0N3qCpwvAnpU",
        "outputId": "ba705f8f-35fa-47ac-ec86-9b612eb2cfe7"
      },
      "execution_count": null,
      "outputs": [
        {
          "output_type": "execute_result",
          "data": {
            "text/plain": [
              "<PrefetchDataset element_spec={'class_id': TensorSpec(shape=(None,), dtype=tf.int64, name=None), 'image': TensorSpec(shape=(None, 224, 224, 3), dtype=tf.float32, name=None), 'super_class_id': TensorSpec(shape=(None,), dtype=tf.int64, name=None), 'super_class_id/num': TensorSpec(shape=(None,), dtype=tf.int64, name=None)}>"
            ]
          },
          "metadata": {},
          "execution_count": 102
        }
      ]
    },
    {
      "cell_type": "code",
      "source": [
        "train_data.element_spec"
      ],
      "metadata": {
        "colab": {
          "base_uri": "https://localhost:8080/"
        },
        "id": "QyQu7rqBsmzh",
        "outputId": "1b789654-14f1-4572-d52d-56e9e1ecbb12"
      },
      "execution_count": null,
      "outputs": [
        {
          "output_type": "execute_result",
          "data": {
            "text/plain": [
              "{'class_id': TensorSpec(shape=(None,), dtype=tf.int64, name=None),\n",
              " 'image': TensorSpec(shape=(None, 224, 224, 3), dtype=tf.float32, name=None),\n",
              " 'super_class_id': TensorSpec(shape=(None,), dtype=tf.int64, name=None),\n",
              " 'super_class_id/num': TensorSpec(shape=(None,), dtype=tf.int64, name=None)}"
            ]
          },
          "metadata": {},
          "execution_count": 90
        }
      ]
    },
    {
      "cell_type": "code",
      "source": [
        "dictValue = train_data.element_spec\n",
        "ls = []\n",
        "ls.append(dictValue[\"class_id\"])\n",
        "ls.append(dictValue[\"image\"])\n",
        "ts = tuple(ls)\n",
        "ts"
      ],
      "metadata": {
        "colab": {
          "base_uri": "https://localhost:8080/"
        },
        "id": "FEnGonKm9s5y",
        "outputId": "bc2bcf50-0b08-4de1-a53f-02310df607d8"
      },
      "execution_count": null,
      "outputs": [
        {
          "output_type": "execute_result",
          "data": {
            "text/plain": [
              "(TensorSpec(shape=(None,), dtype=tf.int64, name=None),\n",
              " TensorSpec(shape=(None, 224, 224, 3), dtype=tf.float32, name=None))"
            ]
          },
          "metadata": {},
          "execution_count": 107
        }
      ]
    },
    {
      "cell_type": "code",
      "source": [
        "len(ts)"
      ],
      "metadata": {
        "colab": {
          "base_uri": "https://localhost:8080/"
        },
        "id": "4DMw26A9YzLh",
        "outputId": "0c3ca0da-ba48-4555-e497-0719f4747d33"
      },
      "execution_count": null,
      "outputs": [
        {
          "output_type": "execute_result",
          "data": {
            "text/plain": [
              "2"
            ]
          },
          "metadata": {},
          "execution_count": 108
        }
      ]
    },
    {
      "cell_type": "code",
      "source": [
        "# Fit the model with callbacks\n",
        "history_B0 = model.fit(\n",
        "    train_data, \n",
        "    epochs=3,\n",
        "    steps_per_epoch=len(train_data),\n",
        "    validation_data=test_data,\n",
        "    validation_steps=int(len(test_data)),\n",
        ")"
      ],
      "metadata": {
        "colab": {
          "base_uri": "https://localhost:8080/",
          "height": 796
        },
        "id": "xOeljZTtpXAP",
        "outputId": "e8b1fae8-86c4-48ee-8185-d4844f8dd0e7"
      },
      "execution_count": null,
      "outputs": [
        {
          "output_type": "stream",
          "name": "stdout",
          "text": [
            "Epoch 1/3\n"
          ]
        },
        {
          "output_type": "error",
          "ename": "ValueError",
          "evalue": "ignored",
          "traceback": [
            "\u001b[0;31m---------------------------------------------------------------------------\u001b[0m",
            "\u001b[0;31mValueError\u001b[0m                                Traceback (most recent call last)",
            "\u001b[0;32m<ipython-input-113-3bbd3ad7ea58>\u001b[0m in \u001b[0;36m<module>\u001b[0;34m()\u001b[0m\n\u001b[1;32m      5\u001b[0m     \u001b[0msteps_per_epoch\u001b[0m\u001b[0;34m=\u001b[0m\u001b[0mlen\u001b[0m\u001b[0;34m(\u001b[0m\u001b[0mtrain_data\u001b[0m\u001b[0;34m)\u001b[0m\u001b[0;34m,\u001b[0m\u001b[0;34m\u001b[0m\u001b[0;34m\u001b[0m\u001b[0m\n\u001b[1;32m      6\u001b[0m     \u001b[0mvalidation_data\u001b[0m\u001b[0;34m=\u001b[0m\u001b[0mtest_data\u001b[0m\u001b[0;34m,\u001b[0m\u001b[0;34m\u001b[0m\u001b[0;34m\u001b[0m\u001b[0m\n\u001b[0;32m----> 7\u001b[0;31m     \u001b[0mvalidation_steps\u001b[0m\u001b[0;34m=\u001b[0m\u001b[0mint\u001b[0m\u001b[0;34m(\u001b[0m\u001b[0mlen\u001b[0m\u001b[0;34m(\u001b[0m\u001b[0mtest_data\u001b[0m\u001b[0;34m)\u001b[0m\u001b[0;34m)\u001b[0m\u001b[0;34m,\u001b[0m\u001b[0;34m\u001b[0m\u001b[0;34m\u001b[0m\u001b[0m\n\u001b[0m\u001b[1;32m      8\u001b[0m )\n",
            "\u001b[0;32m/usr/local/lib/python3.7/dist-packages/keras/utils/traceback_utils.py\u001b[0m in \u001b[0;36merror_handler\u001b[0;34m(*args, **kwargs)\u001b[0m\n\u001b[1;32m     65\u001b[0m     \u001b[0;32mexcept\u001b[0m \u001b[0mException\u001b[0m \u001b[0;32mas\u001b[0m \u001b[0me\u001b[0m\u001b[0;34m:\u001b[0m  \u001b[0;31m# pylint: disable=broad-except\u001b[0m\u001b[0;34m\u001b[0m\u001b[0;34m\u001b[0m\u001b[0m\n\u001b[1;32m     66\u001b[0m       \u001b[0mfiltered_tb\u001b[0m \u001b[0;34m=\u001b[0m \u001b[0m_process_traceback_frames\u001b[0m\u001b[0;34m(\u001b[0m\u001b[0me\u001b[0m\u001b[0;34m.\u001b[0m\u001b[0m__traceback__\u001b[0m\u001b[0;34m)\u001b[0m\u001b[0;34m\u001b[0m\u001b[0;34m\u001b[0m\u001b[0m\n\u001b[0;32m---> 67\u001b[0;31m       \u001b[0;32mraise\u001b[0m \u001b[0me\u001b[0m\u001b[0;34m.\u001b[0m\u001b[0mwith_traceback\u001b[0m\u001b[0;34m(\u001b[0m\u001b[0mfiltered_tb\u001b[0m\u001b[0;34m)\u001b[0m \u001b[0;32mfrom\u001b[0m \u001b[0;32mNone\u001b[0m\u001b[0;34m\u001b[0m\u001b[0;34m\u001b[0m\u001b[0m\n\u001b[0m\u001b[1;32m     68\u001b[0m     \u001b[0;32mfinally\u001b[0m\u001b[0;34m:\u001b[0m\u001b[0;34m\u001b[0m\u001b[0;34m\u001b[0m\u001b[0m\n\u001b[1;32m     69\u001b[0m       \u001b[0;32mdel\u001b[0m \u001b[0mfiltered_tb\u001b[0m\u001b[0;34m\u001b[0m\u001b[0;34m\u001b[0m\u001b[0m\n",
            "\u001b[0;32m/usr/local/lib/python3.7/dist-packages/tensorflow/python/framework/func_graph.py\u001b[0m in \u001b[0;36mautograph_handler\u001b[0;34m(*args, **kwargs)\u001b[0m\n\u001b[1;32m   1145\u001b[0m           \u001b[0;32mexcept\u001b[0m \u001b[0mException\u001b[0m \u001b[0;32mas\u001b[0m \u001b[0me\u001b[0m\u001b[0;34m:\u001b[0m  \u001b[0;31m# pylint:disable=broad-except\u001b[0m\u001b[0;34m\u001b[0m\u001b[0;34m\u001b[0m\u001b[0m\n\u001b[1;32m   1146\u001b[0m             \u001b[0;32mif\u001b[0m \u001b[0mhasattr\u001b[0m\u001b[0;34m(\u001b[0m\u001b[0me\u001b[0m\u001b[0;34m,\u001b[0m \u001b[0;34m\"ag_error_metadata\"\u001b[0m\u001b[0;34m)\u001b[0m\u001b[0;34m:\u001b[0m\u001b[0;34m\u001b[0m\u001b[0;34m\u001b[0m\u001b[0m\n\u001b[0;32m-> 1147\u001b[0;31m               \u001b[0;32mraise\u001b[0m \u001b[0me\u001b[0m\u001b[0;34m.\u001b[0m\u001b[0mag_error_metadata\u001b[0m\u001b[0;34m.\u001b[0m\u001b[0mto_exception\u001b[0m\u001b[0;34m(\u001b[0m\u001b[0me\u001b[0m\u001b[0;34m)\u001b[0m\u001b[0;34m\u001b[0m\u001b[0;34m\u001b[0m\u001b[0m\n\u001b[0m\u001b[1;32m   1148\u001b[0m             \u001b[0;32melse\u001b[0m\u001b[0;34m:\u001b[0m\u001b[0;34m\u001b[0m\u001b[0;34m\u001b[0m\u001b[0m\n\u001b[1;32m   1149\u001b[0m               \u001b[0;32mraise\u001b[0m\u001b[0;34m\u001b[0m\u001b[0;34m\u001b[0m\u001b[0m\n",
            "\u001b[0;31mValueError\u001b[0m: in user code:\n\n    File \"/usr/local/lib/python3.7/dist-packages/keras/engine/training.py\", line 1021, in train_function  *\n        return step_function(self, iterator)\n    File \"/usr/local/lib/python3.7/dist-packages/keras/engine/training.py\", line 1010, in step_function  **\n        outputs = model.distribute_strategy.run(run_step, args=(data,))\n    File \"/usr/local/lib/python3.7/dist-packages/keras/engine/training.py\", line 1000, in run_step  **\n        outputs = model.train_step(data)\n    File \"/usr/local/lib/python3.7/dist-packages/keras/engine/training.py\", line 859, in train_step\n        y_pred = self(x, training=True)\n    File \"/usr/local/lib/python3.7/dist-packages/keras/utils/traceback_utils.py\", line 67, in error_handler\n        raise e.with_traceback(filtered_tb) from None\n    File \"/usr/local/lib/python3.7/dist-packages/keras/engine/input_spec.py\", line 183, in assert_input_compatibility\n        raise ValueError(f'Missing data for input \"{name}\". '\n\n    ValueError: Missing data for input \"input_layer\". You passed a data dictionary with keys ['class_id', 'image', 'super_class_id', 'super_class_id/num']. Expected the following keys: ['input_layer']\n"
          ]
        }
      ]
    },
    {
      "cell_type": "markdown",
      "source": [
        "# Custom Model"
      ],
      "metadata": {
        "id": "UAjhiqKo5dO4"
      }
    },
    {
      "cell_type": "code",
      "source": [
        "train_dir = \"/content/drive/MyDrive/Final yr proj/dataset_C1/train\"\n",
        "test_dir = \"/content/drive/MyDrive/Final yr proj/dataset_C1/test\""
      ],
      "metadata": {
        "id": "j02pg-py5gR0"
      },
      "execution_count": 71,
      "outputs": []
    },
    {
      "cell_type": "code",
      "source": [
        "train_dir = \"/content/drive/MyDrive/Final yr proj/C2_V1_customImages/images/train\"\n",
        "test_dir = \"/content/drive/MyDrive/Final yr proj/C2_V1_customImages/images/test\""
      ],
      "metadata": {
        "id": "QApZb9FBJOyu"
      },
      "execution_count": 17,
      "outputs": []
    },
    {
      "cell_type": "code",
      "source": [
        "train_dir = \"/content/drive/MyDrive/Final yr proj/Dataset_refined/train\"\n",
        "test_dir = \"/content/drive/MyDrive/Final yr proj/Dataset_refined/test\""
      ],
      "metadata": {
        "id": "WUaPh0pXN0bX"
      },
      "execution_count": 46,
      "outputs": []
    },
    {
      "cell_type": "code",
      "source": [
        "# Resize image, shuffle\n",
        "\n",
        "train_data = tf.keras.preprocessing.image_dataset_from_directory(\n",
        "    train_dir, \n",
        "    label_mode = \"categorical\",\n",
        "    image_size = (224, 224),\n",
        "    shuffle = True\n",
        ")\n",
        "\n",
        "test_data = tf.keras.preprocessing.image_dataset_from_directory(\n",
        "    test_dir, \n",
        "    label_mode = \"categorical\",\n",
        "    image_size = (224, 224),\n",
        "    shuffle = False\n",
        ")"
      ],
      "metadata": {
        "id": "KvHXzorg6LyY",
        "outputId": "51467fd1-3a94-414a-b6f3-7d9763e8b2c0",
        "colab": {
          "base_uri": "https://localhost:8080/"
        }
      },
      "execution_count": 72,
      "outputs": [
        {
          "output_type": "stream",
          "name": "stdout",
          "text": [
            "Found 250 files belonging to 5 classes.\n",
            "Found 50 files belonging to 5 classes.\n"
          ]
        }
      ]
    },
    {
      "cell_type": "code",
      "source": [
        "# Data Augmentation\n",
        "\n",
        "data_augmentation = tf.keras.models.Sequential([\n",
        "    tf.keras.layers.experimental.preprocessing.RandomHeight(0.2),\n",
        "    tf.keras.layers.experimental.preprocessing.RandomWidth(0.2),\n",
        "    tf.keras.layers.experimental.preprocessing.RandomFlip(\"horizontal\"),\n",
        "    tf.keras.layers.experimental.preprocessing.RandomRotation(0.2),\n",
        "    tf.keras.layers.experimental.preprocessing.RandomZoom(0.2)\n",
        "], name=\"C1_data_augmentation_layer\")"
      ],
      "metadata": {
        "id": "DXsI_jTp62yE"
      },
      "execution_count": 73,
      "outputs": []
    },
    {
      "cell_type": "markdown",
      "source": [
        "### EFFICIENTNETB0"
      ],
      "metadata": {
        "id": "YKr9WVvRC8mJ"
      }
    },
    {
      "cell_type": "code",
      "source": [
        "## Model\n",
        "\n",
        "C10_base_model = tf.keras.applications.EfficientNetB0(include_top=False)\n",
        "C10_base_model.trainable = False\n",
        "\n",
        "C10_input_layer = tf.keras.layers.Input(shape=(224, 224, 3), name=\"C10_input_layer\")\n",
        "\n",
        "C10_x = data_augmentation(C10_input_layer)\n",
        "C10_x = C10_base_model(C10_x, training=False)\n",
        "C10_x = tf.keras.layers.GlobalAveragePooling2D(name=\"C10_pooling_layer\")(C10_x)\n",
        "\n",
        "C10_output_layer = tf.keras.layers.Dense(len(train_data.class_names), activation=\"softmax\", name=\"C10_output_dense_layer\")(C10_x)\n",
        "\n",
        "C10_model = tf.keras.Model(C10_input_layer, C10_output_layer)"
      ],
      "metadata": {
        "id": "Yz6KOTO18_gT"
      },
      "execution_count": 75,
      "outputs": []
    },
    {
      "cell_type": "code",
      "source": [
        "C10_model.compile(\n",
        "    loss = tf.keras.losses.CategoricalCrossentropy(),\n",
        "    optimizer = tf.keras.optimizers.Adam(),\n",
        "    metrics = [\"accuracy\"]\n",
        ")"
      ],
      "metadata": {
        "id": "9YW09o58-Wwt"
      },
      "execution_count": 76,
      "outputs": []
    },
    {
      "cell_type": "code",
      "source": [
        "train_data"
      ],
      "metadata": {
        "id": "_FHvcTcFFd9o",
        "outputId": "3a73351c-90b3-4da9-d4b9-a0ce288d9836",
        "colab": {
          "base_uri": "https://localhost:8080/"
        }
      },
      "execution_count": 77,
      "outputs": [
        {
          "output_type": "execute_result",
          "data": {
            "text/plain": [
              "<BatchDataset element_spec=(TensorSpec(shape=(None, 224, 224, 3), dtype=tf.float32, name=None), TensorSpec(shape=(None, 5), dtype=tf.float32, name=None))>"
            ]
          },
          "metadata": {},
          "execution_count": 77
        }
      ]
    },
    {
      "cell_type": "code",
      "source": [
        "test_data"
      ],
      "metadata": {
        "id": "aadX1gGhFfw-",
        "outputId": "e45dba8c-3693-4f17-81c0-27c4fe86a35c",
        "colab": {
          "base_uri": "https://localhost:8080/"
        }
      },
      "execution_count": 78,
      "outputs": [
        {
          "output_type": "execute_result",
          "data": {
            "text/plain": [
              "<BatchDataset element_spec=(TensorSpec(shape=(None, 224, 224, 3), dtype=tf.float32, name=None), TensorSpec(shape=(None, 5), dtype=tf.float32, name=None))>"
            ]
          },
          "metadata": {},
          "execution_count": 78
        }
      ]
    },
    {
      "cell_type": "code",
      "source": [
        "C1_history = C10_model.fit(\n",
        "    train_data,\n",
        "    epochs = 5, \n",
        "    validation_data = test_data,\n",
        "    validation_steps = len(test_data),\n",
        "    callbacks = [\n",
        "        tensorboard_callback(\n",
        "            dir_name=\"final_year_proj\",\n",
        "            exp_name=\"C1_T1\",\n",
        "        ),\n",
        "        model_checkpoint\n",
        "    ]\n",
        ")"
      ],
      "metadata": {
        "id": "pR7WaeOs_qsG",
        "outputId": "43b70b11-7a31-4f10-8161-5a000eadedab",
        "colab": {
          "base_uri": "https://localhost:8080/"
        }
      },
      "execution_count": 79,
      "outputs": [
        {
          "output_type": "stream",
          "name": "stdout",
          "text": [
            "Epoch 1/5\n",
            "8/8 [==============================] - ETA: 0s - loss: 1.3492 - accuracy: 0.4720WARNING:tensorflow:Can save best model only with val_acc available, skipping.\n",
            "8/8 [==============================] - 20s 657ms/step - loss: 1.3492 - accuracy: 0.4720 - val_loss: 1.0642 - val_accuracy: 0.7000\n",
            "Epoch 2/5\n",
            "8/8 [==============================] - ETA: 0s - loss: 0.9193 - accuracy: 0.7040WARNING:tensorflow:Can save best model only with val_acc available, skipping.\n",
            "8/8 [==============================] - 8s 343ms/step - loss: 0.9193 - accuracy: 0.7040 - val_loss: 0.7486 - val_accuracy: 0.8200\n",
            "Epoch 3/5\n",
            "8/8 [==============================] - ETA: 0s - loss: 0.6663 - accuracy: 0.8480WARNING:tensorflow:Can save best model only with val_acc available, skipping.\n",
            "8/8 [==============================] - 9s 519ms/step - loss: 0.6663 - accuracy: 0.8480 - val_loss: 0.5784 - val_accuracy: 0.8800\n",
            "Epoch 4/5\n",
            "8/8 [==============================] - ETA: 0s - loss: 0.5012 - accuracy: 0.8960WARNING:tensorflow:Can save best model only with val_acc available, skipping.\n",
            "8/8 [==============================] - 8s 419ms/step - loss: 0.5012 - accuracy: 0.8960 - val_loss: 0.4839 - val_accuracy: 0.8600\n",
            "Epoch 5/5\n",
            "8/8 [==============================] - ETA: 0s - loss: 0.4193 - accuracy: 0.9160WARNING:tensorflow:Can save best model only with val_acc available, skipping.\n",
            "8/8 [==============================] - 8s 377ms/step - loss: 0.4193 - accuracy: 0.9160 - val_loss: 0.4206 - val_accuracy: 0.9200\n"
          ]
        }
      ]
    },
    {
      "cell_type": "code",
      "source": [
        "C10_model.summary()"
      ],
      "metadata": {
        "id": "OHiZhd3XHnF1",
        "outputId": "b9ec49ca-0735-4881-c783-0e6d0a5e5daf",
        "colab": {
          "base_uri": "https://localhost:8080/"
        }
      },
      "execution_count": 80,
      "outputs": [
        {
          "output_type": "stream",
          "name": "stdout",
          "text": [
            "Model: \"model_16\"\n",
            "_________________________________________________________________\n",
            " Layer (type)                Output Shape              Param #   \n",
            "=================================================================\n",
            " C10_input_layer (InputLayer  [(None, 224, 224, 3)]    0         \n",
            " )                                                               \n",
            "                                                                 \n",
            " C1_data_augmentation_layer   (None, 224, 224, 3)      0         \n",
            " (Sequential)                                                    \n",
            "                                                                 \n",
            " efficientnetb0 (Functional)  (None, None, None, 1280)  4049571  \n",
            "                                                                 \n",
            " C10_pooling_layer (GlobalAv  (None, 1280)             0         \n",
            " eragePooling2D)                                                 \n",
            "                                                                 \n",
            " C10_output_dense_layer (Den  (None, 5)                6405      \n",
            " se)                                                             \n",
            "                                                                 \n",
            "=================================================================\n",
            "Total params: 4,055,976\n",
            "Trainable params: 6,405\n",
            "Non-trainable params: 4,049,571\n",
            "_________________________________________________________________\n"
          ]
        }
      ]
    },
    {
      "cell_type": "code",
      "source": [
        "len(C13_base_model.layers)"
      ],
      "metadata": {
        "id": "uxlvq4kDlkRt",
        "outputId": "e3304a1f-50e1-46df-c60d-5edfb8c6ee85",
        "colab": {
          "base_uri": "https://localhost:8080/",
          "height": 165
        }
      },
      "execution_count": 138,
      "outputs": [
        {
          "output_type": "error",
          "ename": "NameError",
          "evalue": "ignored",
          "traceback": [
            "\u001b[0;31m---------------------------------------------------------------------------\u001b[0m",
            "\u001b[0;31mNameError\u001b[0m                                 Traceback (most recent call last)",
            "\u001b[0;32m<ipython-input-138-25d3f91905d2>\u001b[0m in \u001b[0;36m<module>\u001b[0;34m()\u001b[0m\n\u001b[0;32m----> 1\u001b[0;31m \u001b[0mlen\u001b[0m\u001b[0;34m(\u001b[0m\u001b[0mC13_base_model\u001b[0m\u001b[0;34m.\u001b[0m\u001b[0mlayers\u001b[0m\u001b[0;34m)\u001b[0m\u001b[0;34m\u001b[0m\u001b[0;34m\u001b[0m\u001b[0m\n\u001b[0m",
            "\u001b[0;31mNameError\u001b[0m: name 'C13_base_model' is not defined"
          ]
        }
      ]
    },
    {
      "cell_type": "code",
      "source": [
        "C1_results = C10_model.evaluate(test_data)\n",
        "C1_results"
      ],
      "metadata": {
        "id": "3j3dkhSWHxPd",
        "outputId": "ed7ae798-64a1-4e4a-caad-baadc6d39491",
        "colab": {
          "base_uri": "https://localhost:8080/"
        }
      },
      "execution_count": 97,
      "outputs": [
        {
          "output_type": "stream",
          "name": "stdout",
          "text": [
            "2/2 [==============================] - 1s 421ms/step - loss: 0.4206 - accuracy: 0.9200\n"
          ]
        },
        {
          "output_type": "execute_result",
          "data": {
            "text/plain": [
              "[0.42058929800987244, 0.9200000166893005]"
            ]
          },
          "metadata": {},
          "execution_count": 97
        }
      ]
    },
    {
      "cell_type": "code",
      "source": [
        "plot_loss_curves(C1_history)"
      ],
      "metadata": {
        "id": "oxoqshCAQ_VN",
        "outputId": "8c9cd5bf-2557-4b2b-9686-274768ecf475",
        "colab": {
          "base_uri": "https://localhost:8080/",
          "height": 573
        }
      },
      "execution_count": 82,
      "outputs": [
        {
          "output_type": "display_data",
          "data": {
            "text/plain": [
              "<Figure size 432x288 with 1 Axes>"
            ],
            "image/png": "[encoded data removed]"
          },
          "metadata": {
            "needs_background": "light"
          }
        },
        {
          "output_type": "display_data",
          "data": {
            "text/plain": [
              "<Figure size 432x288 with 1 Axes>"
            ],
            "image/png": "[encoded data removed]"
          },
          "metadata": {
            "needs_background": "light"
          }
        }
      ]
    },
    {
      "cell_type": "markdown",
      "source": [
        "### EFFICIENTNETB1"
      ],
      "metadata": {
        "id": "HtP--VrKDA9A"
      }
    },
    {
      "cell_type": "code",
      "source": [
        "## Model\n",
        "\n",
        "C11_base_model = tf.keras.applications.EfficientNetB1(include_top=False)\n",
        "C11_base_model.trainable = False\n",
        "\n",
        "C11_input_layer = tf.keras.layers.Input(shape=(224, 224, 3), name=\"C11_input_layer\")\n",
        "\n",
        "C11_x = data_augmentation(C11_input_layer)\n",
        "C11_x = C11_base_model(C11_x, training=False)\n",
        "C11_x = tf.keras.layers.GlobalAveragePooling2D(name=\"C11_pooling_layer\")(C11_x)\n",
        "\n",
        "C11_output_layer = tf.keras.layers.Dense(len(train_data.class_names), activation=\"softmax\", name=\"C11_output_dense_layer\")(C11_x)\n",
        "\n",
        "C11_model = tf.keras.Model(C11_input_layer, C11_output_layer)"
      ],
      "metadata": {
        "id": "7iwaiLkqDHNI"
      },
      "execution_count": 83,
      "outputs": []
    },
    {
      "cell_type": "code",
      "source": [
        "C11_model.compile(\n",
        "    loss = tf.keras.losses.CategoricalCrossentropy(),\n",
        "    optimizer = tf.keras.optimizers.Adam(),\n",
        "    metrics = [\"accuracy\"]\n",
        ")"
      ],
      "metadata": {
        "id": "Xah3ZPglTQsc"
      },
      "execution_count": 84,
      "outputs": []
    },
    {
      "cell_type": "code",
      "source": [
        "C14_model.compile(\n",
        "    loss = tf.keras.losses.CategoricalCrossentropy(),\n",
        "    optimizer = tf.keras.optimizers.Adam(),\n",
        "    metrics = [\"accuracy\"]\n",
        ")"
      ],
      "metadata": {
        "id": "BuBuFI98UZne"
      },
      "execution_count": null,
      "outputs": []
    },
    {
      "cell_type": "code",
      "source": [
        "C15_model.compile(\n",
        "    loss = tf.keras.losses.CategoricalCrossentropy(),\n",
        "    optimizer = tf.keras.optimizers.Adam(),\n",
        "    metrics = [\"accuracy\"]\n",
        ")"
      ],
      "metadata": {
        "id": "xqd6scFvUZrH"
      },
      "execution_count": null,
      "outputs": []
    },
    {
      "cell_type": "code",
      "source": [
        "C16_model.compile(\n",
        "    loss = tf.keras.losses.CategoricalCrossentropy(),\n",
        "    optimizer = tf.keras.optimizers.Adam(),\n",
        "    metrics = [\"accuracy\"]\n",
        ")"
      ],
      "metadata": {
        "id": "huhL0mNTUZvU"
      },
      "execution_count": null,
      "outputs": []
    },
    {
      "cell_type": "code",
      "source": [
        "C17_model.compile(\n",
        "    loss = tf.keras.losses.CategoricalCrossentropy(),\n",
        "    optimizer = tf.keras.optimizers.Adam(),\n",
        "    metrics = [\"accuracy\"]\n",
        ")"
      ],
      "metadata": {
        "id": "i0Qu8kzPUZzd"
      },
      "execution_count": null,
      "outputs": []
    },
    {
      "cell_type": "code",
      "source": [
        "C11_history = C11_model.fit(\n",
        "    train_data,\n",
        "    epochs = 5, \n",
        "    validation_data = test_data,\n",
        "    validation_steps = len(test_data),\n",
        "    callbacks = [\n",
        "        tensorboard_callback(\n",
        "            dir_name=\"final_year_proj\",\n",
        "            exp_name=\"C1_T1_EffB1\",\n",
        "        ),\n",
        "        model_checkpoint\n",
        "    ]\n",
        ")"
      ],
      "metadata": {
        "id": "czWQqKAdTo4w",
        "outputId": "26683c30-b37a-4850-99e3-5145130c82d5",
        "colab": {
          "base_uri": "https://localhost:8080/"
        }
      },
      "execution_count": 85,
      "outputs": [
        {
          "output_type": "stream",
          "name": "stdout",
          "text": [
            "Epoch 1/5\n",
            "8/8 [==============================] - ETA: 0s - loss: 1.3685 - accuracy: 0.4600WARNING:tensorflow:Can save best model only with val_acc available, skipping.\n",
            "8/8 [==============================] - 21s 953ms/step - loss: 1.3685 - accuracy: 0.4600 - val_loss: 1.1343 - val_accuracy: 0.6600\n",
            "Epoch 2/5\n",
            "8/8 [==============================] - ETA: 0s - loss: 0.9416 - accuracy: 0.7720WARNING:tensorflow:Can save best model only with val_acc available, skipping.\n",
            "8/8 [==============================] - 9s 572ms/step - loss: 0.9416 - accuracy: 0.7720 - val_loss: 0.7960 - val_accuracy: 0.8000\n",
            "Epoch 3/5\n",
            "8/8 [==============================] - ETA: 0s - loss: 0.6373 - accuracy: 0.8800WARNING:tensorflow:Can save best model only with val_acc available, skipping.\n",
            "8/8 [==============================] - 9s 517ms/step - loss: 0.6373 - accuracy: 0.8800 - val_loss: 0.5830 - val_accuracy: 0.8600\n",
            "Epoch 4/5\n",
            "8/8 [==============================] - ETA: 0s - loss: 0.4732 - accuracy: 0.9520WARNING:tensorflow:Can save best model only with val_acc available, skipping.\n",
            "8/8 [==============================] - 9s 474ms/step - loss: 0.4732 - accuracy: 0.9520 - val_loss: 0.4484 - val_accuracy: 0.9200\n",
            "Epoch 5/5\n",
            "8/8 [==============================] - ETA: 0s - loss: 0.3979 - accuracy: 0.9360WARNING:tensorflow:Can save best model only with val_acc available, skipping.\n",
            "8/8 [==============================] - 8s 383ms/step - loss: 0.3979 - accuracy: 0.9360 - val_loss: 0.3673 - val_accuracy: 0.9200\n"
          ]
        }
      ]
    },
    {
      "cell_type": "code",
      "source": [
        "C14_history = C14_model.fit(\n",
        "    train_data,\n",
        "    epochs = 5, \n",
        "    validation_data = test_data,\n",
        "    validation_steps = len(test_data),\n",
        "    callbacks = [\n",
        "        tensorboard_callback(\n",
        "            dir_name=\"final_year_proj\",\n",
        "            exp_name=\"C1_T1_EffB4\",\n",
        "        ),\n",
        "        model_checkpoint\n",
        "    ]\n",
        ")"
      ],
      "metadata": {
        "id": "N4l8RHx2Utg9"
      },
      "execution_count": null,
      "outputs": []
    },
    {
      "cell_type": "code",
      "source": [
        "C15_history = C15_model.fit(\n",
        "    train_data,\n",
        "    epochs = 5, \n",
        "    validation_data = test_data,\n",
        "    validation_steps = len(test_data),\n",
        "    callbacks = [\n",
        "        tensorboard_callback(\n",
        "            dir_name=\"final_year_proj\",\n",
        "            exp_name=\"C1_T1_EffB5\",\n",
        "        ),\n",
        "        model_checkpoint\n",
        "    ]\n",
        ")"
      ],
      "metadata": {
        "id": "1qbaUhueUtkF"
      },
      "execution_count": null,
      "outputs": []
    },
    {
      "cell_type": "code",
      "source": [
        "C16_history = C16_model.fit(\n",
        "    train_data,\n",
        "    epochs = 5, \n",
        "    validation_data = test_data,\n",
        "    validation_steps = len(test_data),\n",
        "    callbacks = [\n",
        "        tensorboard_callback(\n",
        "            dir_name=\"final_year_proj\",\n",
        "            exp_name=\"C1_T1_EffB6\",\n",
        "        ),\n",
        "        model_checkpoint\n",
        "    ]\n",
        ")"
      ],
      "metadata": {
        "id": "LiKlOV_YUtnK"
      },
      "execution_count": null,
      "outputs": []
    },
    {
      "cell_type": "code",
      "source": [
        "C17_history = C17_model.fit(\n",
        "    train_data,\n",
        "    epochs = 5, \n",
        "    validation_data = test_data,\n",
        "    validation_steps = len(test_data),\n",
        "    callbacks = [\n",
        "        tensorboard_callback(\n",
        "            dir_name=\"final_year_proj\",\n",
        "            exp_name=\"C1_T1_EffB7\",\n",
        "        ),\n",
        "        model_checkpoint\n",
        "    ]\n",
        ")"
      ],
      "metadata": {
        "id": "6gYcvwUVUtqX"
      },
      "execution_count": null,
      "outputs": []
    },
    {
      "cell_type": "code",
      "source": [
        "C11_results = C11_model.evaluate(test_data)\n",
        "C11_results"
      ],
      "metadata": {
        "id": "hU09KTNJTo9x",
        "outputId": "38d307c3-6a8e-4f8c-dc44-3453adc21795",
        "colab": {
          "base_uri": "https://localhost:8080/"
        }
      },
      "execution_count": 98,
      "outputs": [
        {
          "output_type": "stream",
          "name": "stdout",
          "text": [
            "2/2 [==============================] - 1s 440ms/step - loss: 0.3673 - accuracy: 0.9200\n"
          ]
        },
        {
          "output_type": "execute_result",
          "data": {
            "text/plain": [
              "[0.36728087067604065, 0.9200000166893005]"
            ]
          },
          "metadata": {},
          "execution_count": 98
        }
      ]
    },
    {
      "cell_type": "code",
      "source": [
        "plot_loss_curves(C11_history)"
      ],
      "metadata": {
        "id": "MvKby_6oTpHw",
        "outputId": "39d1a7ad-dada-4e6f-da33-91d384049ca6",
        "colab": {
          "base_uri": "https://localhost:8080/",
          "height": 573
        }
      },
      "execution_count": 88,
      "outputs": [
        {
          "output_type": "display_data",
          "data": {
            "text/plain": [
              "<Figure size 432x288 with 1 Axes>"
            ],
            "image/png": "[encoded data removed]"
          },
          "metadata": {
            "needs_background": "light"
          }
        },
        {
          "output_type": "display_data",
          "data": {
            "text/plain": [
              "<Figure size 432x288 with 1 Axes>"
            ],
            "image/png": "[encoded data removed]"
          },
          "metadata": {
            "needs_background": "light"
          }
        }
      ]
    },
    {
      "cell_type": "code",
      "source": [
        "## Model\n",
        "\n",
        "C12_base_model = tf.keras.applications.EfficientNetB2(include_top=False)\n",
        "C12_base_model.trainable = False\n",
        "\n",
        "C12_input_layer = tf.keras.layers.Input(shape=(224, 224, 3), name=\"C12_input_layer\")\n",
        "\n",
        "C12_x = data_augmentation(C12_input_layer)\n",
        "C12_x = C12_base_model(C12_x, training=False)\n",
        "C12_x = tf.keras.layers.GlobalAveragePooling2D(name=\"C12_pooling_layer\")(C12_x)\n",
        "\n",
        "C12_output_layer = tf.keras.layers.Dense(len(train_data.class_names), activation=\"softmax\", name=\"C12_output_dense_layer\")(C12_x)\n",
        "\n",
        "C12_model = tf.keras.Model(C12_input_layer, C12_output_layer)"
      ],
      "metadata": {
        "id": "8nJg9q-5MBv6"
      },
      "execution_count": 89,
      "outputs": []
    },
    {
      "cell_type": "code",
      "source": [
        "C12_model.compile(\n",
        "    loss = tf.keras.losses.CategoricalCrossentropy(),\n",
        "    optimizer = tf.keras.optimizers.Adam(),\n",
        "    metrics = [\"accuracy\"]\n",
        ")"
      ],
      "metadata": {
        "id": "tLzaKpe_UZfb"
      },
      "execution_count": 90,
      "outputs": []
    },
    {
      "cell_type": "code",
      "source": [
        "C12_history = C12_model.fit(\n",
        "    train_data,\n",
        "    epochs = 5, \n",
        "    validation_data = test_data,\n",
        "    validation_steps = len(test_data),\n",
        "    callbacks = [\n",
        "        tensorboard_callback(\n",
        "            dir_name=\"final_year_proj\",\n",
        "            exp_name=\"C1_T1_EffB2\",\n",
        "        ),\n",
        "        model_checkpoint\n",
        "    ]\n",
        ")"
      ],
      "metadata": {
        "id": "YycKpW2dUZ6N",
        "outputId": "8d546b1f-f192-4edf-8f7c-ae8100ca49e7",
        "colab": {
          "base_uri": "https://localhost:8080/"
        }
      },
      "execution_count": 91,
      "outputs": [
        {
          "output_type": "stream",
          "name": "stdout",
          "text": [
            "Epoch 1/5\n",
            "8/8 [==============================] - ETA: 0s - loss: 1.4707 - accuracy: 0.3840WARNING:tensorflow:Can save best model only with val_acc available, skipping.\n",
            "8/8 [==============================] - 24s 1s/step - loss: 1.4707 - accuracy: 0.3840 - val_loss: 1.2245 - val_accuracy: 0.6600\n",
            "Epoch 2/5\n",
            "8/8 [==============================] - ETA: 0s - loss: 0.9768 - accuracy: 0.7880WARNING:tensorflow:Can save best model only with val_acc available, skipping.\n",
            "8/8 [==============================] - 13s 711ms/step - loss: 0.9768 - accuracy: 0.7880 - val_loss: 0.8593 - val_accuracy: 0.8200\n",
            "Epoch 3/5\n",
            "8/8 [==============================] - ETA: 0s - loss: 0.6955 - accuracy: 0.8920WARNING:tensorflow:Can save best model only with val_acc available, skipping.\n",
            "8/8 [==============================] - 13s 699ms/step - loss: 0.6955 - accuracy: 0.8920 - val_loss: 0.6319 - val_accuracy: 0.8800\n",
            "Epoch 4/5\n",
            "8/8 [==============================] - ETA: 0s - loss: 0.5371 - accuracy: 0.9080WARNING:tensorflow:Can save best model only with val_acc available, skipping.\n",
            "8/8 [==============================] - 12s 583ms/step - loss: 0.5371 - accuracy: 0.9080 - val_loss: 0.4988 - val_accuracy: 0.9400\n",
            "Epoch 5/5\n",
            "8/8 [==============================] - ETA: 0s - loss: 0.4164 - accuracy: 0.9240WARNING:tensorflow:Can save best model only with val_acc available, skipping.\n",
            "8/8 [==============================] - 9s 507ms/step - loss: 0.4164 - accuracy: 0.9240 - val_loss: 0.4156 - val_accuracy: 0.9600\n"
          ]
        }
      ]
    },
    {
      "cell_type": "code",
      "source": [
        "C12_results = C12_model.evaluate(test_data)\n",
        "C12_results"
      ],
      "metadata": {
        "id": "zjELHAalVXY0",
        "outputId": "b65876dc-18bc-4492-90ed-e7b8791588f9",
        "colab": {
          "base_uri": "https://localhost:8080/"
        }
      },
      "execution_count": 95,
      "outputs": [
        {
          "output_type": "stream",
          "name": "stdout",
          "text": [
            "2/2 [==============================] - 1s 624ms/step - loss: 0.4156 - accuracy: 0.9600\n"
          ]
        },
        {
          "output_type": "execute_result",
          "data": {
            "text/plain": [
              "[0.41555121541023254, 0.9599999785423279]"
            ]
          },
          "metadata": {},
          "execution_count": 95
        }
      ]
    },
    {
      "cell_type": "code",
      "source": [
        "plot_loss_curves(C12_history)"
      ],
      "metadata": {
        "id": "QVv2hzEuV1--",
        "outputId": "81ff46a4-6e3c-45d6-ad14-6167c6c838a5",
        "colab": {
          "base_uri": "https://localhost:8080/",
          "height": 573
        }
      },
      "execution_count": 99,
      "outputs": [
        {
          "output_type": "display_data",
          "data": {
            "text/plain": [
              "<Figure size 432x288 with 1 Axes>"
            ],
            "image/png": "[encoded data removed]"
          },
          "metadata": {
            "needs_background": "light"
          }
        },
        {
          "output_type": "display_data",
          "data": {
            "text/plain": [
              "<Figure size 432x288 with 1 Axes>"
            ],
            "image/png": "[encoded data removed]"
          },
          "metadata": {
            "needs_background": "light"
          }
        }
      ]
    },
    {
      "cell_type": "code",
      "source": [
        "## Model\n",
        "\n",
        "C17_base_model = tf.keras.applications.EfficientNetB3(include_top=False)\n",
        "C17_base_model.trainable = False\n",
        "\n",
        "C17_input_layer = tf.keras.layers.Input(shape=(224, 224, 3), name=\"C17_input_layer\")\n",
        "\n",
        "C17_x = data_augmentation(C17_input_layer)\n",
        "C17_x = C17_base_model(C17_x, training=False)\n",
        "C17_x = tf.keras.layers.GlobalAveragePooling2D(name=\"C1_pooling_layer\")(C17_x)\n",
        "\n",
        "C17_output_layer = tf.keras.layers.Dense(len(train_data.class_names), activation=\"softmax\", name=\"C1_output_dense_layer\")(C17_x)\n",
        "\n",
        "C17_model = tf.keras.Model(C17_input_layer, C17_output_layer)"
      ],
      "metadata": {
        "id": "FiodpYvkMFaJ"
      },
      "execution_count": 100,
      "outputs": []
    },
    {
      "cell_type": "code",
      "source": [
        "C17_model.compile(\n",
        "    loss = tf.keras.losses.CategoricalCrossentropy(),\n",
        "    optimizer = tf.keras.optimizers.Adam(),\n",
        "    metrics = [\"accuracy\"]\n",
        ")"
      ],
      "metadata": {
        "id": "jDAwrgLNUZjO"
      },
      "execution_count": 101,
      "outputs": []
    },
    {
      "cell_type": "code",
      "source": [
        "C17_history = C17_model.fit(\n",
        "    train_data,\n",
        "    epochs = 5, \n",
        "    validation_data = test_data,\n",
        "    validation_steps = len(test_data),\n",
        "    callbacks = [\n",
        "        tensorboard_callback(\n",
        "            dir_name=\"final_year_proj\",\n",
        "            exp_name=\"C1_T1_EffB7\",\n",
        "        ),\n",
        "        model_checkpoint\n",
        "    ]\n",
        ")"
      ],
      "metadata": {
        "id": "zHUEGuUBUteD",
        "outputId": "972095e1-b464-4e12-92b3-42cfdbf66c62",
        "colab": {
          "base_uri": "https://localhost:8080/"
        }
      },
      "execution_count": 102,
      "outputs": [
        {
          "output_type": "stream",
          "name": "stdout",
          "text": [
            "Epoch 1/5\n",
            "8/8 [==============================] - ETA: 0s - loss: 1.4405 - accuracy: 0.4000WARNING:tensorflow:Can save best model only with val_acc available, skipping.\n",
            "8/8 [==============================] - 24s 1s/step - loss: 1.4405 - accuracy: 0.4000 - val_loss: 1.1375 - val_accuracy: 0.7400\n",
            "Epoch 2/5\n",
            "8/8 [==============================] - ETA: 0s - loss: 0.8861 - accuracy: 0.7920WARNING:tensorflow:Can save best model only with val_acc available, skipping.\n",
            "8/8 [==============================] - 11s 798ms/step - loss: 0.8861 - accuracy: 0.7920 - val_loss: 0.7699 - val_accuracy: 0.8600\n",
            "Epoch 3/5\n",
            "8/8 [==============================] - ETA: 0s - loss: 0.5908 - accuracy: 0.8880WARNING:tensorflow:Can save best model only with val_acc available, skipping.\n",
            "8/8 [==============================] - 14s 726ms/step - loss: 0.5908 - accuracy: 0.8880 - val_loss: 0.5680 - val_accuracy: 0.9200\n",
            "Epoch 4/5\n",
            "8/8 [==============================] - ETA: 0s - loss: 0.4511 - accuracy: 0.9120WARNING:tensorflow:Can save best model only with val_acc available, skipping.\n",
            "8/8 [==============================] - 12s 825ms/step - loss: 0.4511 - accuracy: 0.9120 - val_loss: 0.4555 - val_accuracy: 0.9000\n",
            "Epoch 5/5\n",
            "8/8 [==============================] - ETA: 0s - loss: 0.3296 - accuracy: 0.9440WARNING:tensorflow:Can save best model only with val_acc available, skipping.\n",
            "8/8 [==============================] - 11s 829ms/step - loss: 0.3296 - accuracy: 0.9440 - val_loss: 0.3849 - val_accuracy: 0.9200\n"
          ]
        }
      ]
    },
    {
      "cell_type": "code",
      "source": [
        "C17_results = C17_model.evaluate(test_data)\n",
        "C17_results"
      ],
      "metadata": {
        "id": "XmS9SCm_WzqO",
        "outputId": "b5eeaf09-a18a-4d36-8261-80e3de5ff93d",
        "colab": {
          "base_uri": "https://localhost:8080/"
        }
      },
      "execution_count": 103,
      "outputs": [
        {
          "output_type": "stream",
          "name": "stdout",
          "text": [
            "2/2 [==============================] - 1s 443ms/step - loss: 0.3849 - accuracy: 0.9200\n"
          ]
        },
        {
          "output_type": "execute_result",
          "data": {
            "text/plain": [
              "[0.38490578532218933, 0.9200000166893005]"
            ]
          },
          "metadata": {},
          "execution_count": 103
        }
      ]
    },
    {
      "cell_type": "code",
      "source": [
        "plot_loss_curves(C17_history)"
      ],
      "metadata": {
        "id": "pInrwqYvXH_T",
        "outputId": "802f1786-19ed-4b40-9d70-6d3a0273ab66",
        "colab": {
          "base_uri": "https://localhost:8080/",
          "height": 573
        }
      },
      "execution_count": 104,
      "outputs": [
        {
          "output_type": "display_data",
          "data": {
            "text/plain": [
              "<Figure size 432x288 with 1 Axes>"
            ],
            "image/png": "[encoded data removed]"
          },
          "metadata": {
            "needs_background": "light"
          }
        },
        {
          "output_type": "display_data",
          "data": {
            "text/plain": [
              "<Figure size 432x288 with 1 Axes>"
            ],
            "image/png": "[encoded data removed]"
          },
          "metadata": {
            "needs_background": "light"
          }
        }
      ]
    },
    {
      "cell_type": "markdown",
      "source": [
        "### RESNET"
      ],
      "metadata": {
        "id": "uZM0Xi3kXQq4"
      }
    },
    {
      "cell_type": "code",
      "source": [
        "## Model\n",
        "\n",
        "R50_base_model = tf.keras.applications.ResNet50(include_top=False)\n",
        "R50_base_model.trainable = False\n",
        "\n",
        "R50_input_layer = tf.keras.layers.Input(shape=(224, 224, 3), name=\"R50_input_layer\")\n",
        "\n",
        "R50_x = data_augmentation(R50_input_layer)\n",
        "R50_x = R50_base_model(R50_x, training=False)\n",
        "R50_x = tf.keras.layers.GlobalAveragePooling2D(name=\"C1_pooling_layer\")(R50_x)\n",
        "\n",
        "R50_output_layer = tf.keras.layers.Dense(len(train_data.class_names), activation=\"softmax\", name=\"C1_output_dense_layer\")(R50_x)\n",
        "\n",
        "R50_model = tf.keras.Model(R50_input_layer, R50_output_layer)"
      ],
      "metadata": {
        "id": "q1boIph8MK18"
      },
      "execution_count": 106,
      "outputs": []
    },
    {
      "cell_type": "code",
      "source": [
        "R50_model.compile(\n",
        "    loss = tf.keras.losses.CategoricalCrossentropy(),\n",
        "    optimizer = tf.keras.optimizers.Adam(),\n",
        "    metrics = [\"accuracy\"]\n",
        ")"
      ],
      "metadata": {
        "id": "GHupcSsqX6Pb"
      },
      "execution_count": 107,
      "outputs": []
    },
    {
      "cell_type": "code",
      "source": [
        "R50_history = R50_model.fit(\n",
        "    train_data,\n",
        "    epochs = 5, \n",
        "    validation_data = test_data,\n",
        "    validation_steps = len(test_data),\n",
        "    callbacks = [\n",
        "        tensorboard_callback(\n",
        "            dir_name=\"final_year_proj\",\n",
        "            exp_name=\"C1_T1_Resnet50\",\n",
        "        ),\n",
        "        model_checkpoint\n",
        "    ]\n",
        ")"
      ],
      "metadata": {
        "id": "steF9sizX8Fe",
        "outputId": "70333ece-3f7f-4baf-bb4a-516af64e162d",
        "colab": {
          "base_uri": "https://localhost:8080/"
        }
      },
      "execution_count": 109,
      "outputs": [
        {
          "output_type": "stream",
          "name": "stdout",
          "text": [
            "Epoch 1/5\n",
            "8/8 [==============================] - ETA: 0s - loss: 1.4682 - accuracy: 0.4040WARNING:tensorflow:Can save best model only with val_acc available, skipping.\n",
            "8/8 [==============================] - 19s 1s/step - loss: 1.4682 - accuracy: 0.4040 - val_loss: 1.0107 - val_accuracy: 0.6800\n",
            "Epoch 2/5\n",
            "8/8 [==============================] - ETA: 0s - loss: 0.8455 - accuracy: 0.6880WARNING:tensorflow:Can save best model only with val_acc available, skipping.\n",
            "8/8 [==============================] - 12s 963ms/step - loss: 0.8455 - accuracy: 0.6880 - val_loss: 0.6058 - val_accuracy: 0.7000\n",
            "Epoch 3/5\n",
            "8/8 [==============================] - ETA: 0s - loss: 0.5363 - accuracy: 0.8160WARNING:tensorflow:Can save best model only with val_acc available, skipping.\n",
            "8/8 [==============================] - 14s 994ms/step - loss: 0.5363 - accuracy: 0.8160 - val_loss: 0.4199 - val_accuracy: 0.8800\n",
            "Epoch 4/5\n",
            "8/8 [==============================] - ETA: 0s - loss: 0.4087 - accuracy: 0.8600WARNING:tensorflow:Can save best model only with val_acc available, skipping.\n",
            "8/8 [==============================] - 11s 690ms/step - loss: 0.4087 - accuracy: 0.8600 - val_loss: 0.4141 - val_accuracy: 0.8800\n",
            "Epoch 5/5\n",
            "8/8 [==============================] - ETA: 0s - loss: 0.3456 - accuracy: 0.8920WARNING:tensorflow:Can save best model only with val_acc available, skipping.\n",
            "8/8 [==============================] - 11s 756ms/step - loss: 0.3456 - accuracy: 0.8920 - val_loss: 0.3687 - val_accuracy: 0.9000\n"
          ]
        }
      ]
    },
    {
      "cell_type": "code",
      "source": [
        "R50_results = R50_model.evaluate(test_data)\n",
        "R50_results"
      ],
      "metadata": {
        "id": "4KYMLTHWYa1o",
        "outputId": "bb67fced-cc0d-4a01-a6ba-575d97f808e4",
        "colab": {
          "base_uri": "https://localhost:8080/"
        }
      },
      "execution_count": 110,
      "outputs": [
        {
          "output_type": "stream",
          "name": "stdout",
          "text": [
            "2/2 [==============================] - 1s 660ms/step - loss: 0.3687 - accuracy: 0.9000\n"
          ]
        },
        {
          "output_type": "execute_result",
          "data": {
            "text/plain": [
              "[0.3686791658401489, 0.8999999761581421]"
            ]
          },
          "metadata": {},
          "execution_count": 110
        }
      ]
    },
    {
      "cell_type": "code",
      "source": [
        "R50_model.summary()"
      ],
      "metadata": {
        "id": "TtP0wjQpYlS3",
        "outputId": "9744d211-97fa-4109-d94e-febb6ea4b508",
        "colab": {
          "base_uri": "https://localhost:8080/"
        }
      },
      "execution_count": 111,
      "outputs": [
        {
          "output_type": "stream",
          "name": "stdout",
          "text": [
            "Model: \"model_21\"\n",
            "_________________________________________________________________\n",
            " Layer (type)                Output Shape              Param #   \n",
            "=================================================================\n",
            " R50_input_layer (InputLayer  [(None, 224, 224, 3)]    0         \n",
            " )                                                               \n",
            "                                                                 \n",
            " C1_data_augmentation_layer   (None, 224, 224, 3)      0         \n",
            " (Sequential)                                                    \n",
            "                                                                 \n",
            " resnet50 (Functional)       (None, None, None, 2048)  23587712  \n",
            "                                                                 \n",
            " C1_pooling_layer (GlobalAve  (None, 2048)             0         \n",
            " ragePooling2D)                                                  \n",
            "                                                                 \n",
            " C1_output_dense_layer (Dens  (None, 5)                10245     \n",
            " e)                                                              \n",
            "                                                                 \n",
            "=================================================================\n",
            "Total params: 23,597,957\n",
            "Trainable params: 10,245\n",
            "Non-trainable params: 23,587,712\n",
            "_________________________________________________________________\n"
          ]
        }
      ]
    },
    {
      "cell_type": "code",
      "source": [
        "len(R50_base_model.layers)"
      ],
      "metadata": {
        "id": "4kKuGi-jms_6",
        "outputId": "5f9bbc07-025c-477d-e5af-db40cff76f23",
        "colab": {
          "base_uri": "https://localhost:8080/"
        }
      },
      "execution_count": 139,
      "outputs": [
        {
          "output_type": "execute_result",
          "data": {
            "text/plain": [
              "175"
            ]
          },
          "metadata": {},
          "execution_count": 139
        }
      ]
    },
    {
      "cell_type": "code",
      "source": [
        "plot_loss_curves(R50_history)"
      ],
      "metadata": {
        "id": "zpQzhg75You6",
        "outputId": "9d99850f-3a04-4f90-dc0d-7834193471f8",
        "colab": {
          "base_uri": "https://localhost:8080/",
          "height": 573
        }
      },
      "execution_count": 113,
      "outputs": [
        {
          "output_type": "display_data",
          "data": {
            "text/plain": [
              "<Figure size 432x288 with 1 Axes>"
            ],
            "image/png": "[encoded data removed]"
          },
          "metadata": {
            "needs_background": "light"
          }
        },
        {
          "output_type": "display_data",
          "data": {
            "text/plain": [
              "<Figure size 432x288 with 1 Axes>"
            ],
            "image/png": "[encoded data removed]"
          },
          "metadata": {
            "needs_background": "light"
          }
        }
      ]
    },
    {
      "cell_type": "markdown",
      "source": [
        "### VGG19"
      ],
      "metadata": {
        "id": "pQvAjrupZpgu"
      }
    },
    {
      "cell_type": "code",
      "source": [
        "## Model\n",
        "\n",
        "VGG19_base_model = tf.keras.applications.VGG19(include_top=False)\n",
        "VGG19_base_model.trainable = False\n",
        "\n",
        "VGG19_input_layer = tf.keras.layers.Input(shape=(224, 224, 3), name=\"VGG19_input_layer\")\n",
        "\n",
        "VGG19_x = data_augmentation(VGG19_input_layer)\n",
        "VGG19_x = VGG19_base_model(VGG19_x, training=False)\n",
        "VGG19_x = tf.keras.layers.GlobalAveragePooling2D(name=\"VGG19_pooling_layer\")(VGG19_x)\n",
        "\n",
        "VGG19_output_layer = tf.keras.layers.Dense(len(train_data.class_names), activation=\"softmax\", name=\"VGG19_output_dense_layer\")(VGG19_x)\n",
        "\n",
        "VGG19_model = tf.keras.Model(VGG19_input_layer, VGG19_output_layer)"
      ],
      "metadata": {
        "id": "5Q8khPTaMNBS"
      },
      "execution_count": 115,
      "outputs": []
    },
    {
      "cell_type": "code",
      "source": [
        "VGG19_model.compile(\n",
        "    loss = tf.keras.losses.CategoricalCrossentropy(),\n",
        "    optimizer = tf.keras.optimizers.Adam(),\n",
        "    metrics = [\"accuracy\"]\n",
        ")"
      ],
      "metadata": {
        "id": "mAu3ThrOZGen"
      },
      "execution_count": 116,
      "outputs": []
    },
    {
      "cell_type": "code",
      "source": [
        "VGG19_history = VGG19_model.fit(\n",
        "    train_data,\n",
        "    epochs = 5, \n",
        "    validation_data = test_data,\n",
        "    validation_steps = len(test_data),\n",
        "    callbacks = [\n",
        "        tensorboard_callback(\n",
        "            dir_name=\"final_year_proj\",\n",
        "            exp_name=\"C1_T1_VGG19\",\n",
        "        ),\n",
        "        model_checkpoint\n",
        "    ]\n",
        ")"
      ],
      "metadata": {
        "id": "2x_mr0ZmZMoF",
        "outputId": "976e313a-59bc-41d1-e2a9-7539012c1fb6",
        "colab": {
          "base_uri": "https://localhost:8080/"
        }
      },
      "execution_count": 117,
      "outputs": [
        {
          "output_type": "stream",
          "name": "stdout",
          "text": [
            "Epoch 1/5\n",
            "8/8 [==============================] - ETA: 0s - loss: 6.2968 - accuracy: 0.2320WARNING:tensorflow:Can save best model only with val_acc available, skipping.\n",
            "8/8 [==============================] - 39s 4s/step - loss: 6.2968 - accuracy: 0.2320 - val_loss: 7.5232 - val_accuracy: 0.2000\n",
            "Epoch 2/5\n",
            "8/8 [==============================] - ETA: 0s - loss: 4.5445 - accuracy: 0.2720WARNING:tensorflow:Can save best model only with val_acc available, skipping.\n",
            "8/8 [==============================] - 32s 3s/step - loss: 4.5445 - accuracy: 0.2720 - val_loss: 5.4509 - val_accuracy: 0.2200\n",
            "Epoch 3/5\n",
            "8/8 [==============================] - ETA: 0s - loss: 3.1154 - accuracy: 0.4200WARNING:tensorflow:Can save best model only with val_acc available, skipping.\n",
            "8/8 [==============================] - 33s 3s/step - loss: 3.1154 - accuracy: 0.4200 - val_loss: 4.0320 - val_accuracy: 0.3600\n",
            "Epoch 4/5\n",
            "8/8 [==============================] - ETA: 0s - loss: 2.0659 - accuracy: 0.5120WARNING:tensorflow:Can save best model only with val_acc available, skipping.\n",
            "8/8 [==============================] - 31s 3s/step - loss: 2.0659 - accuracy: 0.5120 - val_loss: 3.0420 - val_accuracy: 0.5200\n",
            "Epoch 5/5\n",
            "8/8 [==============================] - ETA: 0s - loss: 1.8744 - accuracy: 0.5840WARNING:tensorflow:Can save best model only with val_acc available, skipping.\n",
            "8/8 [==============================] - 28s 3s/step - loss: 1.8744 - accuracy: 0.5840 - val_loss: 2.4611 - val_accuracy: 0.5800\n"
          ]
        }
      ]
    },
    {
      "cell_type": "code",
      "source": [
        "VGG_19_results = VGG19_model.evaluate(test_data)\n",
        "VGG_19_results"
      ],
      "metadata": {
        "id": "GoNXQ9KeZVx-",
        "outputId": "5e7b60ba-093a-4ed6-96e7-ff235094af8a",
        "colab": {
          "base_uri": "https://localhost:8080/"
        }
      },
      "execution_count": 118,
      "outputs": [
        {
          "output_type": "stream",
          "name": "stdout",
          "text": [
            "2/2 [==============================] - 1s 438ms/step - loss: 2.4611 - accuracy: 0.5800\n"
          ]
        },
        {
          "output_type": "execute_result",
          "data": {
            "text/plain": [
              "[2.461055040359497, 0.5799999833106995]"
            ]
          },
          "metadata": {},
          "execution_count": 118
        }
      ]
    },
    {
      "cell_type": "code",
      "source": [
        "VGG19_model.summary()"
      ],
      "metadata": {
        "id": "RQfD-OoGZgSI",
        "outputId": "1bf2a4ca-afc7-4082-f9ca-2486d8f1d68e",
        "colab": {
          "base_uri": "https://localhost:8080/"
        }
      },
      "execution_count": 119,
      "outputs": [
        {
          "output_type": "stream",
          "name": "stdout",
          "text": [
            "Model: \"model_23\"\n",
            "_________________________________________________________________\n",
            " Layer (type)                Output Shape              Param #   \n",
            "=================================================================\n",
            " VGG19_input_layer (InputLay  [(None, 224, 224, 3)]    0         \n",
            " er)                                                             \n",
            "                                                                 \n",
            " C1_data_augmentation_layer   (None, 224, 224, 3)      0         \n",
            " (Sequential)                                                    \n",
            "                                                                 \n",
            " vgg19 (Functional)          (None, None, None, 512)   20024384  \n",
            "                                                                 \n",
            " VGG19_pooling_layer (Global  (None, 512)              0         \n",
            " AveragePooling2D)                                               \n",
            "                                                                 \n",
            " VGG19_output_dense_layer (D  (None, 5)                2565      \n",
            " ense)                                                           \n",
            "                                                                 \n",
            "=================================================================\n",
            "Total params: 20,026,949\n",
            "Trainable params: 2,565\n",
            "Non-trainable params: 20,024,384\n",
            "_________________________________________________________________\n"
          ]
        }
      ]
    },
    {
      "cell_type": "code",
      "source": [
        "plot_loss_curves(VGG19_history)"
      ],
      "metadata": {
        "id": "-XfmfAsOZjZF",
        "outputId": "0170ce9e-4c30-4d34-d85a-3435554189b1",
        "colab": {
          "base_uri": "https://localhost:8080/",
          "height": 573
        }
      },
      "execution_count": 120,
      "outputs": [
        {
          "output_type": "display_data",
          "data": {
            "text/plain": [
              "<Figure size 432x288 with 1 Axes>"
            ],
            "image/png": "[encoded data removed]"
          },
          "metadata": {
            "needs_background": "light"
          }
        },
        {
          "output_type": "display_data",
          "data": {
            "text/plain": [
              "<Figure size 432x288 with 1 Axes>"
            ],
            "image/png": "[encoded data removed]"
          },
          "metadata": {
            "needs_background": "light"
          }
        }
      ]
    },
    {
      "cell_type": "code",
      "source": [
        "## Model\n",
        "\n",
        "C1_base_model = tf.keras.applications.EfficientNetB6(include_top=False)\n",
        "C1_base_model.trainable = False\n",
        "\n",
        "C1_input_layer = tf.keras.layers.Input(shape=(224, 224, 3), name=\"C1_input_layer\")\n",
        "\n",
        "C1_x = data_augmentation(C1_input_layer)\n",
        "C1_x = C1_base_model(C1_x, training=False)\n",
        "C1_x = tf.keras.layers.GlobalAveragePooling2D(name=\"C1_pooling_layer\")(C1_x)\n",
        "\n",
        "C1_output_layer = tf.keras.layers.Dense(len(train_data.class_names), activation=\"softmax\", name=\"C1_output_dense_layer\")(C1_x)\n",
        "\n",
        "C1_model = tf.keras.Model(C1_input_layer, C1_output_layer)"
      ],
      "metadata": {
        "id": "_YqLLVtxMOoJ",
        "outputId": "38b90f31-57dd-436f-af0c-90081af01036",
        "colab": {
          "base_uri": "https://localhost:8080/"
        }
      },
      "execution_count": 32,
      "outputs": [
        {
          "output_type": "stream",
          "name": "stdout",
          "text": [
            "Downloading data from https://storage.googleapis.com/keras-applications/efficientnetb6_notop.h5\n",
            "165240832/165234480 [==============================] - 1s 0us/step\n",
            "165249024/165234480 [==============================] - 1s 0us/step\n"
          ]
        }
      ]
    },
    {
      "cell_type": "code",
      "source": [
        "## Model\n",
        "\n",
        "C1_base_model = tf.keras.applications.EfficientNetB7(include_top=False)\n",
        "C1_base_model.trainable = False\n",
        "\n",
        "C1_input_layer = tf.keras.layers.Input(shape=(224, 224, 3), name=\"C1_input_layer\")\n",
        "\n",
        "C1_x = data_augmentation(C1_input_layer)\n",
        "C1_x = C1_base_model(C1_x, training=False)\n",
        "C1_x = tf.keras.layers.GlobalAveragePooling2D(name=\"C1_pooling_layer\")(C1_x)\n",
        "\n",
        "C1_output_layer = tf.keras.layers.Dense(len(train_data.class_names), activation=\"softmax\", name=\"C1_output_dense_layer\")(C1_x)\n",
        "\n",
        "C1_model = tf.keras.Model(C1_input_layer, C1_output_layer)"
      ],
      "metadata": {
        "id": "ENizhGBMMPxE",
        "outputId": "a09cb405-374c-4fc6-b860-33b4407200c2",
        "colab": {
          "base_uri": "https://localhost:8080/"
        }
      },
      "execution_count": 33,
      "outputs": [
        {
          "output_type": "stream",
          "name": "stdout",
          "text": [
            "Downloading data from https://storage.googleapis.com/keras-applications/efficientnetb7_notop.h5\n",
            "258080768/258076736 [==============================] - 1s 0us/step\n",
            "258088960/258076736 [==============================] - 1s 0us/step\n"
          ]
        }
      ]
    }
  ]
}